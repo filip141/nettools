{
 "cells": [
  {
   "cell_type": "code",
   "execution_count": 1,
   "metadata": {
    "collapsed": true,
    "deletable": true,
    "editable": true
   },
   "outputs": [],
   "source": [
    "import warnings\n",
    "warnings.filterwarnings('ignore')"
   ]
  },
  {
   "cell_type": "code",
   "execution_count": 2,
   "metadata": {
    "collapsed": false,
    "deletable": true,
    "editable": true
   },
   "outputs": [],
   "source": [
    "%matplotlib notebook\n",
    "import numpy as np\n",
    "import pandas as pd\n",
    "import matplotlib.pyplot as plt\n",
    "from nettools.multiplex import InterMeasures\n",
    "from nettools.monoplex import CentralityMeasure\n",
    "from nettools.epidemic import SISMultiplex, SIRMultiplex\n",
    "from nettools.utils import load_multinet_by_name, NX_CENTRALITY"
   ]
  },
  {
   "cell_type": "markdown",
   "metadata": {
    "deletable": true,
    "editable": true
   },
   "source": [
    "# Centrality"
   ]
  },
  {
   "cell_type": "markdown",
   "metadata": {
    "deletable": true,
    "editable": true
   },
   "source": [
    "After analysing interdependence for multilayer networks, I decided to measure centrality for nodes in purpose of finding the *best spreader* in network. In my reasearch I will test few commonly used metrics. <br><br>\n",
    "**Metrics**\n",
    "* Degree\n",
    "* Closeness\n",
    "* Betweenness\n",
    "* Eigenvector\n",
    "* Pagerank\n",
    "* Hits\n",
    "* K-shell\n",
    "* Voterank\n",
    "\n",
    "After finding most central node in network, This node become infected, and start *disease / information spreading* on network."
   ]
  },
  {
   "cell_type": "markdown",
   "metadata": {
    "deletable": true,
    "editable": true
   },
   "source": [
    "# Load Datasets\n",
    "\n",
    "In reaserch same as before I use *London Transportation*, *European Airplanes* and *FAO Trade Network*."
   ]
  },
  {
   "cell_type": "code",
   "execution_count": 3,
   "metadata": {
    "collapsed": false,
    "deletable": true,
    "editable": true
   },
   "outputs": [],
   "source": [
    "network_london = load_multinet_by_name('london')"
   ]
  },
  {
   "cell_type": "code",
   "execution_count": 4,
   "metadata": {
    "collapsed": true,
    "deletable": true,
    "editable": true
   },
   "outputs": [],
   "source": [
    "network_fao = load_multinet_by_name('fao')"
   ]
  },
  {
   "cell_type": "code",
   "execution_count": 5,
   "metadata": {
    "collapsed": true,
    "deletable": true,
    "editable": true
   },
   "outputs": [],
   "source": [
    "network_euair = load_multinet_by_name('EUAir')"
   ]
  },
  {
   "cell_type": "markdown",
   "metadata": {
    "deletable": true,
    "editable": true
   },
   "source": [
    "# Construct network attributes dictionary\n",
    "**InterMeasures** object accept dictionary with network parameters, but\n",
    "it's possible to pass database name instead."
   ]
  },
  {
   "cell_type": "markdown",
   "metadata": {
    "deletable": true,
    "editable": true
   },
   "source": [
    "### *European Airlines* Network properties"
   ]
  },
  {
   "cell_type": "code",
   "execution_count": 6,
   "metadata": {
    "collapsed": true,
    "deletable": true,
    "editable": true
   },
   "outputs": [],
   "source": [
    "network_attrs_eu = {}\n",
    "network_attrs_eu['loaded_network'] = network_euair[0]\n",
    "network_attrs_eu['network_graph_np'] = network_euair[1]\n",
    "network_attrs_eu['network_weights_np'] = network_euair[2]\n",
    "network_attrs_eu['mapping'] = network_euair[3]\n",
    "network_attrs_eu['layers_attr'] = network_euair[4]"
   ]
  },
  {
   "cell_type": "markdown",
   "metadata": {
    "deletable": true,
    "editable": true
   },
   "source": [
    "### *London Transportation* Network properties"
   ]
  },
  {
   "cell_type": "code",
   "execution_count": 7,
   "metadata": {
    "collapsed": true,
    "deletable": true,
    "editable": true
   },
   "outputs": [],
   "source": [
    "network_attrs_lt = {}\n",
    "network_attrs_lt['loaded_network'] = network_london[0]\n",
    "network_attrs_lt['network_graph_np'] = network_london[1]\n",
    "network_attrs_lt['network_weights_np'] = network_london[2]\n",
    "network_attrs_lt['mapping'] = network_london[3]\n",
    "network_attrs_lt['layers_attr'] = network_london[4]"
   ]
  },
  {
   "cell_type": "markdown",
   "metadata": {
    "deletable": true,
    "editable": true
   },
   "source": [
    "### *FAO Trade Network* Network properties"
   ]
  },
  {
   "cell_type": "code",
   "execution_count": 8,
   "metadata": {
    "collapsed": true,
    "deletable": true,
    "editable": true
   },
   "outputs": [],
   "source": [
    "network_attrs_fao = {}\n",
    "network_attrs_fao['loaded_network'] = network_fao[0]\n",
    "network_attrs_fao['network_graph_np'] = network_fao[1]\n",
    "network_attrs_fao['network_weights_np'] = network_fao[2]\n",
    "network_attrs_fao['mapping'] = network_fao[3]\n",
    "network_attrs_fao['layers_attr'] = network_fao[4]"
   ]
  },
  {
   "cell_type": "markdown",
   "metadata": {
    "deletable": true,
    "editable": true
   },
   "source": [
    "# Reasearch approach\n",
    "In this notebook I going to measure *centrality* for three networks. Each network was previously examined in terms of *interdependence*.<br>\n",
    "**Experiment steps**\n",
    "* Aggregate all layers and measure centrality\n",
    "* Aggregate layers based on interdependence\n",
    "* Multilayer methods (eg. *KS Index*)\n",
    "* Proposal:\n",
    "    * Best optimal spreader for each layer\n",
    "    * Optimalization algorithm, find best coefficients **b**."
   ]
  },
  {
   "cell_type": "code",
   "execution_count": 9,
   "metadata": {
    "collapsed": true,
    "deletable": true,
    "editable": true
   },
   "outputs": [],
   "source": [
    "im_eu = InterMeasures(network_attr=network_attrs_eu)\n",
    "im_lt = InterMeasures(network_attr=network_attrs_lt)\n",
    "im_fao = InterMeasures(network_attr=network_attrs_fao)"
   ]
  },
  {
   "cell_type": "markdown",
   "metadata": {
    "deletable": true,
    "editable": true
   },
   "source": [
    "# Aggregate networks\n",
    "First I will examine centrality for aggregated network. In this case network is aggregated using equal weights.<br>\n",
    "**y = w1 \\* layer1 + w2 \\* layer2, w1 = w2**"
   ]
  },
  {
   "cell_type": "code",
   "execution_count": 10,
   "metadata": {
    "collapsed": true,
    "deletable": true,
    "editable": true
   },
   "outputs": [],
   "source": [
    "agg_net_eu = im_eu.agg_net\n",
    "agg_net_lt = im_lt.agg_net\n",
    "agg_net_fao = im_fao.agg_net"
   ]
  },
  {
   "cell_type": "markdown",
   "metadata": {
    "deletable": true,
    "editable": true
   },
   "source": [
    "Find central ten central nodes using different methods for monoplex networks"
   ]
  },
  {
   "cell_type": "code",
   "execution_count": 11,
   "metadata": {
    "collapsed": false,
    "deletable": true,
    "editable": true
   },
   "outputs": [
    {
     "data": {
      "text/html": [
       "<div>\n",
       "<table border=\"1\" class=\"dataframe\">\n",
       "  <thead>\n",
       "    <tr style=\"text-align: right;\">\n",
       "      <th></th>\n",
       "      <th>betweenness</th>\n",
       "      <th>closeness</th>\n",
       "      <th>degree</th>\n",
       "      <th>eigenvector</th>\n",
       "      <th>hits</th>\n",
       "      <th>k-shell</th>\n",
       "      <th>pagerank</th>\n",
       "      <th>voterank</th>\n",
       "    </tr>\n",
       "  </thead>\n",
       "  <tbody>\n",
       "    <tr>\n",
       "      <th>0</th>\n",
       "      <td>30</td>\n",
       "      <td>14</td>\n",
       "      <td>11</td>\n",
       "      <td>14</td>\n",
       "      <td>14</td>\n",
       "      <td>251</td>\n",
       "      <td>14</td>\n",
       "      <td>14</td>\n",
       "    </tr>\n",
       "    <tr>\n",
       "      <th>1</th>\n",
       "      <td>13</td>\n",
       "      <td>37</td>\n",
       "      <td>14</td>\n",
       "      <td>49</td>\n",
       "      <td>49</td>\n",
       "      <td>214</td>\n",
       "      <td>13</td>\n",
       "      <td>49</td>\n",
       "    </tr>\n",
       "    <tr>\n",
       "      <th>2</th>\n",
       "      <td>23</td>\n",
       "      <td>1</td>\n",
       "      <td>37</td>\n",
       "      <td>82</td>\n",
       "      <td>82</td>\n",
       "      <td>198</td>\n",
       "      <td>49</td>\n",
       "      <td>37</td>\n",
       "    </tr>\n",
       "    <tr>\n",
       "      <th>3</th>\n",
       "      <td>11</td>\n",
       "      <td>39</td>\n",
       "      <td>251</td>\n",
       "      <td>63</td>\n",
       "      <td>63</td>\n",
       "      <td>180</td>\n",
       "      <td>39</td>\n",
       "      <td>39</td>\n",
       "    </tr>\n",
       "    <tr>\n",
       "      <th>4</th>\n",
       "      <td>14</td>\n",
       "      <td>165</td>\n",
       "      <td>49</td>\n",
       "      <td>39</td>\n",
       "      <td>39</td>\n",
       "      <td>165</td>\n",
       "      <td>37</td>\n",
       "      <td>1</td>\n",
       "    </tr>\n",
       "    <tr>\n",
       "      <th>5</th>\n",
       "      <td>251</td>\n",
       "      <td>21</td>\n",
       "      <td>39</td>\n",
       "      <td>37</td>\n",
       "      <td>37</td>\n",
       "      <td>121</td>\n",
       "      <td>11</td>\n",
       "      <td>251</td>\n",
       "    </tr>\n",
       "    <tr>\n",
       "      <th>6</th>\n",
       "      <td>39</td>\n",
       "      <td>49</td>\n",
       "      <td>1</td>\n",
       "      <td>6</td>\n",
       "      <td>6</td>\n",
       "      <td>107</td>\n",
       "      <td>23</td>\n",
       "      <td>63</td>\n",
       "    </tr>\n",
       "    <tr>\n",
       "      <th>7</th>\n",
       "      <td>76</td>\n",
       "      <td>6</td>\n",
       "      <td>107</td>\n",
       "      <td>1</td>\n",
       "      <td>1</td>\n",
       "      <td>100</td>\n",
       "      <td>63</td>\n",
       "      <td>11</td>\n",
       "    </tr>\n",
       "    <tr>\n",
       "      <th>8</th>\n",
       "      <td>37</td>\n",
       "      <td>63</td>\n",
       "      <td>23</td>\n",
       "      <td>165</td>\n",
       "      <td>165</td>\n",
       "      <td>95</td>\n",
       "      <td>251</td>\n",
       "      <td>6</td>\n",
       "    </tr>\n",
       "    <tr>\n",
       "      <th>9</th>\n",
       "      <td>27</td>\n",
       "      <td>82</td>\n",
       "      <td>82</td>\n",
       "      <td>65</td>\n",
       "      <td>65</td>\n",
       "      <td>82</td>\n",
       "      <td>1</td>\n",
       "      <td>82</td>\n",
       "    </tr>\n",
       "  </tbody>\n",
       "</table>\n",
       "</div>"
      ],
      "text/plain": [
       "   betweenness  closeness  degree  eigenvector  hits  k-shell  pagerank  \\\n",
       "0           30         14      11           14    14      251        14   \n",
       "1           13         37      14           49    49      214        13   \n",
       "2           23          1      37           82    82      198        49   \n",
       "3           11         39     251           63    63      180        39   \n",
       "4           14        165      49           39    39      165        37   \n",
       "5          251         21      39           37    37      121        11   \n",
       "6           39         49       1            6     6      107        23   \n",
       "7           76          6     107            1     1      100        63   \n",
       "8           37         63      23          165   165       95       251   \n",
       "9           27         82      82           65    65       82         1   \n",
       "\n",
       "   voterank  \n",
       "0        14  \n",
       "1        49  \n",
       "2        37  \n",
       "3        39  \n",
       "4         1  \n",
       "5       251  \n",
       "6        63  \n",
       "7        11  \n",
       "8         6  \n",
       "9        82  "
      ]
     },
     "execution_count": 11,
     "metadata": {},
     "output_type": "execute_result"
    }
   ],
   "source": [
    "cent_dict = {}\n",
    "cm_eu = CentralityMeasure(agg_net_eu)\n",
    "for method in NX_CENTRALITY.keys():\n",
    "    results = cm_eu.network_cn(method)\n",
    "    if method == 'hits':\n",
    "        results = results[1]\n",
    "    best_10 = sorted(results.items(), key=lambda x: x[1])[::-1][:10]\n",
    "    cent_dict[method] = [cnt[0] for cnt in best_10]\n",
    "pd.DataFrame.from_dict(cent_dict)"
   ]
  },
  {
   "cell_type": "code",
   "execution_count": 20,
   "metadata": {
    "collapsed": false,
    "deletable": true,
    "editable": true
   },
   "outputs": [
    {
     "data": {
      "text/plain": [
       "15273"
      ]
     },
     "execution_count": 20,
     "metadata": {},
     "output_type": "execute_result"
    }
   ],
   "source": [
    "agg_net_eu.shape\n",
    "sis = SISMultiplex(im_eu.get_network_adjacency(), beta=0.3, mu=0.01, inter_beta=1.0, \n",
    "                   inter_rec=0.01, seed_nodes=[cent_dict['closeness'][0]])\n",
    "sis.run(epochs=200, visualize=False)\n",
    "sis.get_num('i')"
   ]
  },
  {
   "cell_type": "code",
   "execution_count": null,
   "metadata": {
    "collapsed": true,
    "deletable": true,
    "editable": true
   },
   "outputs": [],
   "source": []
  }
 ],
 "metadata": {
  "kernelspec": {
   "display_name": "jupyter2_network",
   "language": "python",
   "name": "jupyter2_network"
  },
  "language_info": {
   "codemirror_mode": {
    "name": "ipython",
    "version": 2
   },
   "file_extension": ".py",
   "mimetype": "text/x-python",
   "name": "python",
   "nbconvert_exporter": "python",
   "pygments_lexer": "ipython2",
   "version": "2.7.12"
  }
 },
 "nbformat": 4,
 "nbformat_minor": 2
}
