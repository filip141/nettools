{
 "cells": [
  {
   "cell_type": "code",
   "execution_count": 1,
   "metadata": {
    "collapsed": true,
    "deletable": true,
    "editable": true
   },
   "outputs": [],
   "source": [
    "import warnings\n",
    "warnings.filterwarnings('ignore')"
   ]
  },
  {
   "cell_type": "code",
   "execution_count": 2,
   "metadata": {
    "collapsed": true,
    "deletable": true,
    "editable": true
   },
   "outputs": [],
   "source": [
    "# %matplotlib notebook\n",
    "import numpy as np\n",
    "import matplotlib.pyplot as plt\n",
    "from nettools.multiplex import MultiplexNetwork\n",
    "from nettools.multiplex import MultiplexConstructor\n",
    "from nettools.monoplex import NetworkGenerator, Network\n",
    "from nettools.multiplex import Percolation, running_mean"
   ]
  },
  {
   "cell_type": "markdown",
   "metadata": {
    "deletable": true,
    "editable": true
   },
   "source": [
    "# Percolation"
   ]
  },
  {
   "cell_type": "markdown",
   "metadata": {
    "deletable": true,
    "editable": true
   },
   "source": [
    "I this notebook I will analyze reaserch publicated by *Buldyrev* about cascades in **interdependent networks**. For that purpose I created Percolation module for my **nettools** library, which is able to plot **GCC** size, when changing percolation probability."
   ]
  },
  {
   "cell_type": "markdown",
   "metadata": {
    "deletable": true,
    "editable": true
   },
   "source": [
    "In my reaserch I will test SF networks (*Barabassi Albert/ Barabassi Bianconi*) and Erods-Renyi network.\n",
    "First I will use percolation module on **ER** and **SF** monoplex networks, next this same approach will be used for multiplex networks."
   ]
  },
  {
   "cell_type": "markdown",
   "metadata": {
    "deletable": true,
    "editable": true
   },
   "source": [
    "#### Erdos-Renyi, Barabassi Biaconi and Barabassi Albert monoplex networks"
   ]
  },
  {
   "cell_type": "markdown",
   "metadata": {
    "deletable": true,
    "editable": true
   },
   "source": [
    "Percolation process on **ER** network, <br>Paramaters: *< k > = 2, N = 2000* <br>\n",
    "Percolation process on **BA** network, <br>Paramaters: *< k > = 2m = 1, N = 2000* <br>\n",
    "In **BB** network hubs not allwayes are the oldes nodes. In this model fitness parameter is introduced, by that \n",
    "each node have different dynamic in time. \n",
    "$$\\gamma = 2.25$$"
   ]
  },
  {
   "cell_type": "code",
   "execution_count": 5,
   "metadata": {
    "collapsed": false,
    "deletable": true,
    "editable": true
   },
   "outputs": [
    {
     "data": {
      "image/png": "[encoded data removed]",
      "text/plain": [
       "<matplotlib.figure.Figure at 0x7f75ce4baf50>"
      ]
     },
     "metadata": {},
     "output_type": "display_data"
    }
   ],
   "source": [
    "nodes_nm = 3000\n",
    "ng = NetworkGenerator(nodes=nodes_nm)\n",
    "mc = MultiplexConstructor()\n",
    "er1 = ng.er_network(p=4.0 / float(nodes_nm - 1))\n",
    "ba1 = ng.ba_network(m0=2)\n",
    "bb1 = ng.bb_network(m0=2)\n",
    "mnet_er = mc.construct(er1)\n",
    "mnet_ba = mc.construct(ba1)\n",
    "mnet_bb = mc.construct(bb1)\n",
    "per_er = Percolation(mnet_er)\n",
    "per_ba = Percolation(mnet_ba)\n",
    "per_bb = Percolation(mnet_bb)\n",
    "res_er = per_er.run(visualize=True, npoints=3000, colour='blue')\n",
    "res_ba = per_ba.run(visualize=True, npoints=3000, colour='yellow')\n",
    "res_bb = per_bb.run(visualize=True, npoints=3000, colour='orange')\n",
    "plt.show()"
   ]
  },
  {
   "cell_type": "markdown",
   "metadata": {
    "deletable": true,
    "editable": true
   },
   "source": [
    "From first and second plot we can see that percolation threshold for **random** network is something around: \n",
    "$$p_c = 1 - \\frac{1}{<k>}$$\n",
    "For Scale-Free networks threshold is a lot of higher, 100 % robusstness for $$N -> \\infty$$ \n",
    "For real network little lower."
   ]
  },
  {
   "cell_type": "markdown",
   "metadata": {},
   "source": [
    "Here same comparision as before and additional plots for **ER-ER**, **BA-BA** and **BB-BB**"
   ]
  },
  {
   "cell_type": "code",
   "execution_count": null,
   "metadata": {
    "collapsed": true
   },
   "outputs": [],
   "source": [
    "nodes_nm = 3000\n",
    "# Define network generator\n",
    "ng = NetworkGenerator(nodes=nodes_nm)\n",
    "# Create networks\n",
    "ba1 = ng.ba_network(m0=2)\n",
    "ba_c_1 = ng.ba_network(m0=2)\n",
    "ba_c_2 = ng.ba_network(m0=2)\n",
    "er1 = ng.er_network(p=4.0 / float(nodes_nm - 1))\n",
    "er_c_1 = ng.er_network(p=4.0 / float(nodes_nm - 1))\n",
    "er_c_2 = ng.er_network(p=4.0 / float(nodes_nm - 1))\n",
    "# Construct multilayer networks\n",
    "mc = MultiplexConstructor()\n",
    "mnet_er = mc.construct(er1)\n",
    "mnet_ba = mc.construct(ba1)\n",
    "mnet_erer = mc.construct(er_c_1, er_c_2)\n",
    "mnet_baba = mc.construct(ba_c_1, ba_c_2)\n",
    "# Initialize Percolation\n",
    "per_er = Percolation(mnet_er)\n",
    "per_ba = Percolation(mnet_ba)\n",
    "per_erer = Percolation(mnet_erer)\n",
    "per_baba = Percolation(mnet_baba)\n",
    "per_er.run(visualize=True, npoints=3000, log=True, colour='r')\n",
    "per_ba.run(visualize=True, npoints=3000, log=True, colour='g')\n",
    "per_erer.run(visualize=True, npoints=3000, log=True, colour='b')\n",
    "per_baba.run(visualize=True, npoints=3000, log=True, colour='y')"
   ]
  },
  {
   "cell_type": "markdown",
   "metadata": {},
   "source": [
    "On the end comparision of network robustness, for graph where nodes between two layers are correlated and graph, where nodes are not correlated."
   ]
  },
  {
   "cell_type": "code",
   "execution_count": null,
   "metadata": {
    "collapsed": true
   },
   "outputs": [],
   "source": [
    "nodes_nm = 3000\n",
    "# Define network generator\n",
    "ng = NetworkGenerator(nodes=nodes_nm)\n",
    "# Create networks\n",
    "bb1 = ng.bb_network(m0=4)\n",
    "bb_c_1 = ng.bb_network(m0=4)\n",
    "bb_c_2 = ng.bb_network(m0=4)\n",
    "bb_co_1 = ng.bb_network(m0=4)\n",
    "bb_co_2 = ng.bb_network(m0=4)\n",
    "# Construct multilayer networks\n",
    "mc = MultiplexConstructor()\n",
    "bac = mc.rewire_hubs(bb_co_1, rsteps=2000)\n",
    "mnet_bb = mc.construct(bb1)\n",
    "mnet_bbbb = mc.construct(bb_c_1, bb_c_2)\n",
    "mnet_bbbb_co = mc.construct(bac, bb_co_1)\n",
    "# Initialize Percolation\n",
    "per_bb = Percolation(mnet_bb)\n",
    "per_bbbb = Percolation(mnet_bbbb)\n",
    "per_bbbb_co = Percolation(mnet_bbbb_co)\n",
    "per_bb.run(visualize=True, npoints=3000, log=True, colour='g')\n",
    "per_bbbb.run(visualize=True, npoints=3000, log=True, colour='y')\n",
    "per_bbbb_co.run(visualize=True, npoints=3000, log=True, colour='r')\n",
    "plt.show()"
   ]
  }
 ],
 "metadata": {
  "kernelspec": {
   "display_name": "jupyter2_network",
   "language": "python",
   "name": "jupyter2_network"
  },
  "language_info": {
   "codemirror_mode": {
    "name": "ipython",
    "version": 2
   },
   "file_extension": ".py",
   "mimetype": "text/x-python",
   "name": "python",
   "nbconvert_exporter": "python",
   "pygments_lexer": "ipython2",
   "version": "2.7.12"
  }
 },
 "nbformat": 4,
 "nbformat_minor": 2
}
