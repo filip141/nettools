{
 "cells": [
  {
   "cell_type": "code",
   "execution_count": 1,
   "metadata": {
    "collapsed": true,
    "deletable": true,
    "editable": true
   },
   "outputs": [],
   "source": [
    "#%matplotlib notebook\n",
    "import numpy as np\n",
    "import matplotlib.pyplot as plt\n",
    "from nettools.monoplex import NetworkGenerator \n",
    "from nettools.multiplex import MultiplexConstructor\n",
    "from nettools.multiplex import InterMeasures"
   ]
  },
  {
   "cell_type": "markdown",
   "metadata": {
    "deletable": true,
    "editable": true
   },
   "source": [
    "# Generating synthetic networks\n",
    "In this experiment I generate few synthetic networks, in purpose to examinate their properties\n",
    "and find best candidates for future experiment. To realize this aim I implement few methods and classes, which are able to construct Multiplex networks."
   ]
  },
  {
   "cell_type": "markdown",
   "metadata": {
    "deletable": true,
    "editable": true
   },
   "source": [
    "#### Generate signle layer networks"
   ]
  },
  {
   "cell_type": "code",
   "execution_count": 2,
   "metadata": {
    "collapsed": false,
    "deletable": true,
    "editable": true
   },
   "outputs": [],
   "source": [
    "ng = NetworkGenerator(300)\n",
    "network_ba_1 = ng.ba_network(m0=10)\n",
    "network_ba_2 = ng.ba_network(m0=10)\n",
    "network_er_1 = ng.er_network(p=0.2)\n",
    "network_er_2 = ng.er_network(p=0.2)"
   ]
  },
  {
   "cell_type": "markdown",
   "metadata": {
    "deletable": true,
    "editable": true
   },
   "source": [
    "#### Generate correlated networks for Barabassi Albert networks\n",
    "To build correlated multilayer network, first we must create layers, which are correlated with other layer.\n",
    "It can be done by rewiring some edges. Degree distribution is preserved but two network will be different, It's mean high degree correlation but low conditional probability between edges on each layer, given other layer."
   ]
  },
  {
   "cell_type": "code",
   "execution_count": 3,
   "metadata": {
    "collapsed": false,
    "deletable": true,
    "editable": true
   },
   "outputs": [],
   "source": [
    "mc = MultiplexConstructor()"
   ]
  },
  {
   "cell_type": "code",
   "execution_count": 4,
   "metadata": {
    "collapsed": true,
    "deletable": true,
    "editable": true
   },
   "outputs": [],
   "source": [
    "network_corr_ba_1 = mc.rewire_hubs(network_ba_1, rsteps=5000)\n",
    "network_corr_ba_2 = mc.rewire_hubs(network_ba_2, rsteps=150)"
   ]
  },
  {
   "cell_type": "markdown",
   "metadata": {
    "deletable": true,
    "editable": true
   },
   "source": [
    "#### Construct Multiplex networks"
   ]
  },
  {
   "cell_type": "code",
   "execution_count": 5,
   "metadata": {
    "collapsed": true,
    "deletable": true,
    "editable": true
   },
   "outputs": [],
   "source": [
    "multi_er_er = mc.construct(network_er_1, network_er_2)\n",
    "multi_er_ba = mc.construct(network_er_2, network_ba_1)\n",
    "multi_ba_ba_nc = mc.construct(network_ba_2, network_ba_1)\n",
    "multi_ba_ba_corr_1 = mc.construct(network_ba_1, network_corr_ba_1)\n",
    "multi_ba_ba_corr_2 = mc.construct(network_ba_2, network_corr_ba_2)"
   ]
  },
  {
   "cell_type": "markdown",
   "metadata": {
    "deletable": true,
    "editable": true
   },
   "source": [
    "# Measure network properties\n",
    "After network generation and construction, examine basic network properties"
   ]
  },
  {
   "cell_type": "markdown",
   "metadata": {
    "deletable": true,
    "editable": true
   },
   "source": [
    "## Degree correlations\n",
    "Degree correlation as conditional probability, that node i have degree k given degree d on other layer. <br>\n",
    "Using this approach we can check degree correlation for our synthetic correlated multilayer network too."
   ]
  },
  {
   "cell_type": "markdown",
   "metadata": {
    "deletable": true,
    "editable": true
   },
   "source": [
    "#### ER - ER"
   ]
  },
  {
   "cell_type": "code",
   "execution_count": 6,
   "metadata": {
    "collapsed": true,
    "deletable": true,
    "editable": true
   },
   "outputs": [],
   "source": [
    "n_layers = multi_er_er.network.shape[2]\n",
    "corr_matrix = np.zeros((n_layers, n_layers))\n",
    "for layer_ref in range(n_layers):\n",
    "    for layer_test in range(n_layers):\n",
    "        corr_matrix[layer_ref, layer_test] = InterMeasures.degree_conditional(\n",
    "            multi_er_er.network[:, :, layer_ref], \n",
    "            multi_er_er.network[:, :, layer_test]\n",
    "        )"
   ]
  },
  {
   "cell_type": "code",
   "execution_count": 7,
   "metadata": {
    "collapsed": false,
    "deletable": true,
    "editable": true
   },
   "outputs": [
    {
     "data": {
      "text/plain": [
       "array([[ 1.        ,  0.05333333],\n",
       "       [ 0.05333333,  1.        ]])"
      ]
     },
     "execution_count": 7,
     "metadata": {},
     "output_type": "execute_result"
    }
   ],
   "source": [
    "corr_matrix"
   ]
  },
  {
   "cell_type": "markdown",
   "metadata": {
    "deletable": true,
    "editable": true
   },
   "source": [
    "#### ER - BA"
   ]
  },
  {
   "cell_type": "code",
   "execution_count": 8,
   "metadata": {
    "collapsed": true,
    "deletable": true,
    "editable": true
   },
   "outputs": [],
   "source": [
    "n_layers = multi_er_ba.network.shape[2]\n",
    "corr_matrix = np.zeros((n_layers, n_layers))\n",
    "for layer_ref in range(n_layers):\n",
    "    for layer_test in range(n_layers):\n",
    "        corr_matrix[layer_ref, layer_test] = InterMeasures.degree_conditional(\n",
    "            multi_er_ba.network[:, :, layer_ref], \n",
    "            multi_er_ba.network[:, :, layer_test]\n",
    "        )"
   ]
  },
  {
   "cell_type": "code",
   "execution_count": 9,
   "metadata": {
    "collapsed": false,
    "deletable": true,
    "editable": true
   },
   "outputs": [
    {
     "data": {
      "text/plain": [
       "array([[ 1.        ,  0.00333333],\n",
       "       [ 0.00333333,  1.        ]])"
      ]
     },
     "execution_count": 9,
     "metadata": {},
     "output_type": "execute_result"
    }
   ],
   "source": [
    "corr_matrix"
   ]
  },
  {
   "cell_type": "markdown",
   "metadata": {
    "deletable": true,
    "editable": true
   },
   "source": [
    "#### BA - BA"
   ]
  },
  {
   "cell_type": "code",
   "execution_count": 10,
   "metadata": {
    "collapsed": true,
    "deletable": true,
    "editable": true
   },
   "outputs": [],
   "source": [
    "n_layers = multi_ba_ba_nc.network.shape[2]\n",
    "corr_matrix = np.zeros((n_layers, n_layers))\n",
    "for layer_ref in range(n_layers):\n",
    "    for layer_test in range(n_layers):\n",
    "        corr_matrix[layer_ref, layer_test] = InterMeasures.degree_conditional(\n",
    "            multi_ba_ba_nc.network[:, :, layer_ref], \n",
    "            multi_ba_ba_nc.network[:, :, layer_test]\n",
    "        )"
   ]
  },
  {
   "cell_type": "code",
   "execution_count": 11,
   "metadata": {
    "collapsed": false,
    "deletable": true,
    "editable": true
   },
   "outputs": [
    {
     "data": {
      "text/plain": [
       "array([[ 1.        ,  0.16333333],\n",
       "       [ 0.16333333,  1.        ]])"
      ]
     },
     "execution_count": 11,
     "metadata": {},
     "output_type": "execute_result"
    }
   ],
   "source": [
    "corr_matrix"
   ]
  },
  {
   "cell_type": "markdown",
   "metadata": {},
   "source": [
    "Lower *m* parameter leads to higher correlation between nodes."
   ]
  },
  {
   "cell_type": "markdown",
   "metadata": {
    "deletable": true,
    "editable": true
   },
   "source": [
    "#### BA - BA [Correlation]"
   ]
  },
  {
   "cell_type": "code",
   "execution_count": 12,
   "metadata": {
    "collapsed": false,
    "deletable": true,
    "editable": true
   },
   "outputs": [],
   "source": [
    "n_layers = multi_ba_ba_corr_1.network.shape[2]\n",
    "corr_matrix = np.zeros((n_layers, n_layers))\n",
    "for layer_ref in range(n_layers):\n",
    "    for layer_test in range(n_layers):\n",
    "        corr_matrix[layer_ref, layer_test] = InterMeasures.degree_conditional(\n",
    "            multi_ba_ba_corr_1.network[:, :, layer_ref], \n",
    "            multi_ba_ba_corr_1.network[:, :, layer_test]\n",
    "        )"
   ]
  },
  {
   "cell_type": "code",
   "execution_count": 13,
   "metadata": {
    "collapsed": false,
    "deletable": true,
    "editable": true
   },
   "outputs": [
    {
     "data": {
      "text/plain": [
       "array([[ 1.,  1.],\n",
       "       [ 1.,  1.]])"
      ]
     },
     "execution_count": 13,
     "metadata": {},
     "output_type": "execute_result"
    }
   ],
   "source": [
    "corr_matrix"
   ]
  },
  {
   "cell_type": "markdown",
   "metadata": {},
   "source": [
    "As we can see from previous reaserch, for first three networks there is no correlation between layers.\n",
    "Only last multilayer network is highly correlated as it was expected."
   ]
  },
  {
   "cell_type": "markdown",
   "metadata": {
    "deletable": true,
    "editable": true
   },
   "source": [
    "## Degree distribution\n",
    "Degree distribution for each network."
   ]
  },
  {
   "cell_type": "markdown",
   "metadata": {
    "deletable": true,
    "editable": true
   },
   "source": [
    "#### ER - ER"
   ]
  },
  {
   "cell_type": "code",
   "execution_count": 14,
   "metadata": {
    "collapsed": true,
    "deletable": true,
    "editable": true
   },
   "outputs": [],
   "source": [
    "deg_dist_erer = InterMeasures.degree_distribution(multi_er_er.network)\n",
    "kcorr_erer = InterMeasures.kendal_corr(deg_dist_erer)"
   ]
  },
  {
   "cell_type": "code",
   "execution_count": 15,
   "metadata": {
    "collapsed": false,
    "deletable": true,
    "editable": true
   },
   "outputs": [
    {
     "data": {
      "image/png": "[encoded data removed]",
      "text/plain": [
       "<matplotlib.figure.Figure at 0x7f3c8c3f5f50>"
      ]
     },
     "metadata": {},
     "output_type": "display_data"
    }
   ],
   "source": [
    "fig=plt.figure(figsize=(5, 5), dpi= 80, facecolor='w', edgecolor='k')\n",
    "plt.imshow(np.repeat(deg_dist_erer, 100, axis=0))\n",
    "plt.show()"
   ]
  },
  {
   "cell_type": "markdown",
   "metadata": {},
   "source": [
    "By looking at degree distribution plot for two random network we can see that, both layers are not correlated and for each network degree is Poisson distributed, all nodes have degree not far from distribution mean value.\n",
    "Using random network in experiment I want to check *Buldyrev* thesis about percolation threshold for interdependent networks *Catastrophic cascade of failures in interdependent networks*"
   ]
  },
  {
   "cell_type": "markdown",
   "metadata": {
    "deletable": true,
    "editable": true
   },
   "source": [
    "#### ER - BA"
   ]
  },
  {
   "cell_type": "code",
   "execution_count": 16,
   "metadata": {
    "collapsed": true,
    "deletable": true,
    "editable": true
   },
   "outputs": [],
   "source": [
    "deg_dist_erba = InterMeasures.degree_distribution(multi_er_ba.network)\n",
    "kcorr_erba = InterMeasures.kendal_corr(deg_dist_erba)"
   ]
  },
  {
   "cell_type": "code",
   "execution_count": 17,
   "metadata": {
    "collapsed": false,
    "deletable": true,
    "editable": true
   },
   "outputs": [
    {
     "data": {
      "image/png": "[encoded data removed]",
      "text/plain": [
       "<matplotlib.figure.Figure at 0x7f3c80dd0d50>"
      ]
     },
     "metadata": {},
     "output_type": "display_data"
    }
   ],
   "source": [
    "fig=plt.figure(figsize=(5, 5), dpi= 80, facecolor='w', edgecolor='k')\n",
    "plt.imshow(np.repeat(deg_dist_erba, 100, axis=0))\n",
    "plt.show()"
   ]
  },
  {
   "cell_type": "markdown",
   "metadata": {},
   "source": [
    "Network constructed using **BA** network and **ER** network is also not correlated network. As expected random layer is Poisson distributed when BA layer is power-law network, few hubs and many small degree nodes."
   ]
  },
  {
   "cell_type": "markdown",
   "metadata": {
    "collapsed": true,
    "deletable": true,
    "editable": true
   },
   "source": [
    "#### BA - BA [No correlation]"
   ]
  },
  {
   "cell_type": "code",
   "execution_count": 18,
   "metadata": {
    "collapsed": false,
    "deletable": true,
    "editable": true
   },
   "outputs": [],
   "source": [
    "deg_dist_baba = InterMeasures.degree_distribution(multi_ba_ba_nc.network)\n",
    "kcorr_baba = InterMeasures.kendal_corr(deg_dist_baba)"
   ]
  },
  {
   "cell_type": "code",
   "execution_count": 19,
   "metadata": {
    "collapsed": false,
    "deletable": true,
    "editable": true
   },
   "outputs": [
    {
     "data": {
      "image/png": "[encoded data removed]",
      "text/plain": [
       "<matplotlib.figure.Figure at 0x7f3c80c74ed0>"
      ]
     },
     "metadata": {},
     "output_type": "display_data"
    }
   ],
   "source": [
    "fig=plt.figure(figsize=(5, 5), dpi= 80, facecolor='w', edgecolor='k')\n",
    "plt.imshow(np.repeat(deg_dist_baba, 100, axis=0))\n",
    "plt.show()"
   ]
  },
  {
   "cell_type": "markdown",
   "metadata": {
    "deletable": true,
    "editable": true
   },
   "source": [
    "#### BA - BA [Correlated]"
   ]
  },
  {
   "cell_type": "code",
   "execution_count": 20,
   "metadata": {
    "collapsed": true,
    "deletable": true,
    "editable": true
   },
   "outputs": [],
   "source": [
    "deg_dist_baba_corr = InterMeasures.degree_distribution(multi_ba_ba_corr_1.network)\n",
    "kcorr_baba_corr = InterMeasures.kendal_corr(deg_dist_baba_corr)"
   ]
  },
  {
   "cell_type": "code",
   "execution_count": 21,
   "metadata": {
    "collapsed": false,
    "deletable": true,
    "editable": true
   },
   "outputs": [
    {
     "data": {
      "image/png": "[encoded data removed]",
      "text/plain": [
       "<matplotlib.figure.Figure at 0x7f3c80bd6790>"
      ]
     },
     "metadata": {},
     "output_type": "display_data"
    }
   ],
   "source": [
    "fig=plt.figure(figsize=(5, 5), dpi= 80, facecolor='w', edgecolor='k')\n",
    "plt.imshow(np.repeat(deg_dist_baba_corr, 100, axis=0))\n",
    "plt.show()"
   ]
  },
  {
   "cell_type": "markdown",
   "metadata": {},
   "source": [
    "Last degree distribution plot shows us that besides rewiring many nodes, *degree distribution* for rewired layer is **preserved**. That leads to the fact that our network have **same** *degree distribution* for each layer and two layers are **highly correlated**."
   ]
  },
  {
   "cell_type": "markdown",
   "metadata": {
    "deletable": true,
    "editable": true
   },
   "source": [
    "# Participation coefficient\n",
    "Participation coefficient measure in how many layers node participate. Some nodes could have high degree in one layer and very small degree in other, participation coefficient helps us to measure how node degrees are distributed across all layers."
   ]
  },
  {
   "cell_type": "markdown",
   "metadata": {
    "deletable": true,
    "editable": true
   },
   "source": [
    "#### ER - ER"
   ]
  },
  {
   "cell_type": "code",
   "execution_count": 22,
   "metadata": {
    "collapsed": true,
    "deletable": true,
    "editable": true
   },
   "outputs": [],
   "source": [
    "agg_net_erer = InterMeasures.aggregate(multi_er_er.network)"
   ]
  },
  {
   "cell_type": "code",
   "execution_count": 23,
   "metadata": {
    "collapsed": false,
    "deletable": true,
    "editable": true
   },
   "outputs": [
    {
     "data": {
      "image/png": "[encoded data removed]",
      "text/plain": [
       "<matplotlib.figure.Figure at 0x7f3c80a9d510>"
      ]
     },
     "metadata": {},
     "output_type": "display_data"
    }
   ],
   "source": [
    "pc_erer = InterMeasures.participation_coeff(multi_er_er.network, agg_net_erer)\n",
    "plt.figure()\n",
    "plt.plot(np.sort(pc_erer)[::-1], '.r')\n",
    "plt.show()"
   ]
  },
  {
   "cell_type": "markdown",
   "metadata": {},
   "source": [
    "In Erdos Renyi networks all nodes have similiar degrees, so probably participation coefficient highly depends on network degree distribution mean ratio. In analyzed network one layer have higher mean value then other, that's why probably participation coefficient is not equal 1.0 but little lower, but as expected all nodes have similiar participation coefficient +- 0.7"
   ]
  },
  {
   "cell_type": "markdown",
   "metadata": {
    "deletable": true,
    "editable": true
   },
   "source": [
    "#### ER - BA"
   ]
  },
  {
   "cell_type": "code",
   "execution_count": 24,
   "metadata": {
    "collapsed": true,
    "deletable": true,
    "editable": true
   },
   "outputs": [],
   "source": [
    "agg_net_erba = InterMeasures.aggregate(multi_er_ba.network)"
   ]
  },
  {
   "cell_type": "code",
   "execution_count": 25,
   "metadata": {
    "collapsed": false,
    "deletable": true,
    "editable": true
   },
   "outputs": [
    {
     "data": {
      "image/png": "[encoded data removed]",
      "text/plain": [
       "<matplotlib.figure.Figure at 0x7f3c80a3f150>"
      ]
     },
     "metadata": {},
     "output_type": "display_data"
    }
   ],
   "source": [
    "pc_erba = InterMeasures.participation_coeff(multi_er_ba.network, agg_net_erba)\n",
    "plt.figure()\n",
    "plt.plot(np.sort(pc_erba)[::-1], '.r')\n",
    "plt.show()"
   ]
  },
  {
   "cell_type": "markdown",
   "metadata": {},
   "source": [
    "Participation coefficient for mixed network **ER + BA** highly depends on random netork mean value.\n",
    "* When value is high, nodes from random layer have comparable degree to hubs in BA network [small coefficient]\n",
    "* When value is low, many nodes from random layer have comparable degree to low connected nodes from BA layer, in BA network there is a lot of low connected nodes, thats imply high values of praticipation coeff"
   ]
  },
  {
   "cell_type": "markdown",
   "metadata": {
    "deletable": true,
    "editable": true
   },
   "source": [
    "#### BA - BA"
   ]
  },
  {
   "cell_type": "code",
   "execution_count": 26,
   "metadata": {
    "collapsed": true,
    "deletable": true,
    "editable": true
   },
   "outputs": [],
   "source": [
    "agg_net_baba_nc = InterMeasures.aggregate(multi_ba_ba_nc.network)"
   ]
  },
  {
   "cell_type": "code",
   "execution_count": 27,
   "metadata": {
    "collapsed": false,
    "deletable": true,
    "editable": true
   },
   "outputs": [
    {
     "data": {
      "image/png": "[encoded data removed]",
      "text/plain": [
       "<matplotlib.figure.Figure at 0x7f3c809802d0>"
      ]
     },
     "metadata": {},
     "output_type": "display_data"
    }
   ],
   "source": [
    "pc_baba_nc = InterMeasures.participation_coeff(multi_ba_ba_nc.network, agg_net_baba_nc)\n",
    "plt.figure()\n",
    "plt.plot(np.sort(pc_baba_nc)[::-1], '.r')\n",
    "plt.show()"
   ]
  },
  {
   "cell_type": "markdown",
   "metadata": {},
   "source": [
    "Participation coefficient value for two *Barabassi Albert* networks depends on parameter *m*, which characterize this type of network. When we divide *p* by 2 in random layer [**ER - ER** network] and we divide *m* by 2 for **BA** layer in [**BA - BA**] network, we will see that **BA-BA** Multilayer is more robust.\n",
    "\n",
    "Same *m* for two **BA** layer results in better participation, than same *p* for two **ER** layers."
   ]
  },
  {
   "cell_type": "markdown",
   "metadata": {
    "deletable": true,
    "editable": true
   },
   "source": [
    "#### BA - BA [Correlated]"
   ]
  },
  {
   "cell_type": "code",
   "execution_count": 28,
   "metadata": {
    "collapsed": true,
    "deletable": true,
    "editable": true
   },
   "outputs": [],
   "source": [
    "agg_net_baba_corr_1 = InterMeasures.aggregate(multi_ba_ba_corr_1.network)"
   ]
  },
  {
   "cell_type": "code",
   "execution_count": 29,
   "metadata": {
    "collapsed": false,
    "deletable": true,
    "editable": true
   },
   "outputs": [
    {
     "data": {
      "image/png": "[encoded data removed]",
      "text/plain": [
       "<matplotlib.figure.Figure at 0x7f3c808bd050>"
      ]
     },
     "metadata": {},
     "output_type": "display_data"
    }
   ],
   "source": [
    "pc_baba_corr_1 = InterMeasures.participation_coeff(multi_ba_ba_corr_1.network, agg_net_baba_corr_1)\n",
    "plt.figure()\n",
    "plt.plot(np.sort(pc_baba_corr_1)[::-1], '.r')\n",
    "plt.show()"
   ]
  },
  {
   "cell_type": "markdown",
   "metadata": {
    "deletable": true,
    "editable": true
   },
   "source": [
    "## Participation Coefficient and Aggregated Degree "
   ]
  },
  {
   "cell_type": "code",
   "execution_count": 30,
   "metadata": {
    "collapsed": true,
    "deletable": true,
    "editable": true
   },
   "outputs": [],
   "source": [
    "degree_agg_erer = InterMeasures.degree_distribution(agg_net_erer)\n",
    "z_score_erer = (degree_agg_erer - np.mean(degree_agg_erer)) / np.std(degree_agg_erer)"
   ]
  },
  {
   "cell_type": "code",
   "execution_count": 31,
   "metadata": {
    "collapsed": false,
    "deletable": true,
    "editable": true
   },
   "outputs": [
    {
     "data": {
      "image/png": "[encoded data removed]",
      "text/plain": [
       "<matplotlib.figure.Figure at 0x7f3c807f7c50>"
      ]
     },
     "metadata": {},
     "output_type": "display_data"
    }
   ],
   "source": [
    "plt.figure()\n",
    "plt.scatter(pc_erer, z_score_erer)\n",
    "plt.show()"
   ]
  },
  {
   "cell_type": "code",
   "execution_count": 32,
   "metadata": {
    "collapsed": true,
    "deletable": true,
    "editable": true
   },
   "outputs": [],
   "source": [
    "degree_agg_erba = InterMeasures.degree_distribution(agg_net_erba)\n",
    "z_score_erba = (degree_agg_erba - np.mean(degree_agg_erba)) / np.std(degree_agg_erba)"
   ]
  },
  {
   "cell_type": "code",
   "execution_count": 33,
   "metadata": {
    "collapsed": false,
    "deletable": true,
    "editable": true
   },
   "outputs": [
    {
     "data": {
      "image/png": "[encoded data removed]",
      "text/plain": [
       "<matplotlib.figure.Figure at 0x7f3c8074f850>"
      ]
     },
     "metadata": {},
     "output_type": "display_data"
    }
   ],
   "source": [
    "plt.figure()\n",
    "plt.scatter(pc_erba, z_score_erba)\n",
    "plt.show()"
   ]
  },
  {
   "cell_type": "code",
   "execution_count": 34,
   "metadata": {
    "collapsed": true,
    "deletable": true,
    "editable": true
   },
   "outputs": [],
   "source": [
    "degree_agg_baba_nc = InterMeasures.degree_distribution(agg_net_baba_nc)\n",
    "z_score_baba_nc = (degree_agg_baba_nc - np.mean(degree_agg_baba_nc)) / np.std(degree_agg_baba_nc)"
   ]
  },
  {
   "cell_type": "code",
   "execution_count": 35,
   "metadata": {
    "collapsed": false,
    "deletable": true,
    "editable": true
   },
   "outputs": [
    {
     "data": {
      "image/png": "[encoded data removed]",
      "text/plain": [
       "<matplotlib.figure.Figure at 0x7f3c80684950>"
      ]
     },
     "metadata": {},
     "output_type": "display_data"
    }
   ],
   "source": [
    "plt.figure()\n",
    "plt.scatter(pc_baba_nc, z_score_baba_nc)\n",
    "plt.show()"
   ]
  },
  {
   "cell_type": "markdown",
   "metadata": {
    "deletable": true,
    "editable": true
   },
   "source": [
    "## Probability approach"
   ]
  },
  {
   "cell_type": "markdown",
   "metadata": {},
   "source": [
    "In reaserch I decided to visualize probability approach of having node on test layer given test layer.\n",
    "As expected there is not correlation between edges even for correlated **BA - BA** network"
   ]
  },
  {
   "cell_type": "markdown",
   "metadata": {
    "deletable": true,
    "editable": true
   },
   "source": [
    "#### ER - ER"
   ]
  },
  {
   "cell_type": "code",
   "execution_count": 36,
   "metadata": {
    "collapsed": false,
    "deletable": true,
    "editable": true
   },
   "outputs": [
    {
     "data": {
      "image/png": "[encoded data removed]",
      "text/plain": [
       "<matplotlib.figure.Figure at 0x7f3c80715790>"
      ]
     },
     "metadata": {},
     "output_type": "display_data"
    }
   ],
   "source": [
    "proba_erer = InterMeasures.link_layer_dependence(multi_er_er.network)\n",
    "fig=plt.figure(figsize=(2, 2), dpi= 80, facecolor='w', edgecolor='k')\n",
    "proba_reshaped_erer = np.repeat(np.repeat(proba_erer, 10, axis=0), 10, axis=1)\n",
    "plt.imshow(proba_reshaped_erer)\n",
    "plt.show()\n"
   ]
  },
  {
   "cell_type": "markdown",
   "metadata": {
    "deletable": true,
    "editable": true
   },
   "source": [
    "#### ER - BA"
   ]
  },
  {
   "cell_type": "code",
   "execution_count": 37,
   "metadata": {
    "collapsed": false,
    "deletable": true,
    "editable": true
   },
   "outputs": [
    {
     "data": {
      "image/png": "[encoded data removed]",
      "text/plain": [
       "<matplotlib.figure.Figure at 0x7f3c807dff10>"
      ]
     },
     "metadata": {},
     "output_type": "display_data"
    }
   ],
   "source": [
    "proba_erba = InterMeasures.link_layer_dependence(multi_er_ba.network)\n",
    "fig=plt.figure(figsize=(2, 2), dpi= 80, facecolor='w', edgecolor='k')\n",
    "proba_reshaped_erba = np.repeat(np.repeat(proba_erba, 10, axis=0), 10, axis=1)\n",
    "plt.imshow(proba_reshaped_erba)\n",
    "plt.show()\n"
   ]
  },
  {
   "cell_type": "markdown",
   "metadata": {
    "deletable": true,
    "editable": true
   },
   "source": [
    "#### BA-BA"
   ]
  },
  {
   "cell_type": "code",
   "execution_count": 38,
   "metadata": {
    "collapsed": false,
    "deletable": true,
    "editable": true
   },
   "outputs": [
    {
     "data": {
      "image/png": "[encoded data removed]",
      "text/plain": [
       "<matplotlib.figure.Figure at 0x7f3c8087ced0>"
      ]
     },
     "metadata": {},
     "output_type": "display_data"
    }
   ],
   "source": [
    "proba_baba_nc = InterMeasures.link_layer_dependence(multi_ba_ba_nc.network)\n",
    "fig=plt.figure(figsize=(2, 2), dpi= 80, facecolor='w', edgecolor='k')\n",
    "proba_reshaped_baba_nc = np.repeat(np.repeat(proba_baba_nc, 10, axis=0), 10, axis=1)\n",
    "plt.imshow(proba_reshaped_baba_nc)\n",
    "plt.show()"
   ]
  },
  {
   "cell_type": "markdown",
   "metadata": {
    "deletable": true,
    "editable": true
   },
   "source": [
    "#### BA-BA [Correlation]"
   ]
  },
  {
   "cell_type": "code",
   "execution_count": 39,
   "metadata": {
    "collapsed": false,
    "deletable": true,
    "editable": true
   },
   "outputs": [
    {
     "data": {
      "image/png": "[encoded data removed]",
      "text/plain": [
       "<matplotlib.figure.Figure at 0x7f3c80b77310>"
      ]
     },
     "metadata": {},
     "output_type": "display_data"
    }
   ],
   "source": [
    "proba_baba_corr = InterMeasures.link_layer_dependence(multi_ba_ba_corr_1.network)\n",
    "fig=plt.figure(figsize=(2, 2), dpi= 80, facecolor='w', edgecolor='k')\n",
    "proba_reshaped_baba_corr = np.repeat(np.repeat(proba_baba_corr, 10, axis=0), 10, axis=1)\n",
    "plt.imshow(proba_reshaped_baba_corr)\n",
    "plt.show()"
   ]
  },
  {
   "cell_type": "markdown",
   "metadata": {
    "deletable": true,
    "editable": true
   },
   "source": [
    "## Probability approach with aggregated layer"
   ]
  },
  {
   "cell_type": "markdown",
   "metadata": {},
   "source": [
    "Using probability approach with aggregated network we can obtain information about single layer importance.\n",
    "In future this information can be use for example to create better representation of aggregated weighted network."
   ]
  },
  {
   "cell_type": "markdown",
   "metadata": {
    "deletable": true,
    "editable": true
   },
   "source": [
    "#### ER-ER"
   ]
  },
  {
   "cell_type": "code",
   "execution_count": 40,
   "metadata": {
    "collapsed": false,
    "deletable": true,
    "editable": true
   },
   "outputs": [],
   "source": [
    "n_layers = multi_er_er.network.shape[-1]\n",
    "layer_scores_erer = []\n",
    "for layer_idx in range(n_layers):\n",
    "    proba_layer_erer = InterMeasures.link_conditional(agg_net_erer, \n",
    "                                                      multi_er_er.network[:, :, layer_idx])\n",
    "    layer_scores_erer.append(proba_layer_erer)\n",
    "fin_scores_erer = np.sort(layer_scores_erer)\n",
    "fin_arg_scores = np.argsort(layer_scores_erer)"
   ]
  },
  {
   "cell_type": "code",
   "execution_count": 41,
   "metadata": {
    "collapsed": false,
    "deletable": true,
    "editable": true
   },
   "outputs": [
    {
     "data": {
      "image/png": "[encoded data removed]",
      "text/plain": [
       "<matplotlib.figure.Figure at 0x7f3c80be5890>"
      ]
     },
     "metadata": {},
     "output_type": "display_data"
    }
   ],
   "source": [
    "fig=plt.figure(figsize=(7, 5), dpi= 80, facecolor='w', edgecolor='k')\n",
    "plt.bar(fin_arg_scores, fin_scores_erer)\n",
    "plt.show()"
   ]
  },
  {
   "cell_type": "markdown",
   "metadata": {
    "deletable": true,
    "editable": true
   },
   "source": [
    "#### ER-BA"
   ]
  },
  {
   "cell_type": "code",
   "execution_count": 42,
   "metadata": {
    "collapsed": true,
    "deletable": true,
    "editable": true
   },
   "outputs": [],
   "source": [
    "n_layers = multi_er_ba.network.shape[-1]\n",
    "layer_scores_erba = []\n",
    "for layer_idx in range(n_layers):\n",
    "    proba_layer_erba = InterMeasures.link_conditional(agg_net_erba, \n",
    "                                                      multi_er_ba.network[:, :, layer_idx])\n",
    "    layer_scores_erba.append(proba_layer_erba)\n",
    "fin_scores_erba = np.sort(layer_scores_erba)\n",
    "fin_arg_scores = np.argsort(layer_scores_erba)"
   ]
  },
  {
   "cell_type": "code",
   "execution_count": 43,
   "metadata": {
    "collapsed": false,
    "deletable": true,
    "editable": true
   },
   "outputs": [
    {
     "data": {
      "image/png": "[encoded data removed]",
      "text/plain": [
       "<matplotlib.figure.Figure at 0x7f3c80dd0610>"
      ]
     },
     "metadata": {},
     "output_type": "display_data"
    }
   ],
   "source": [
    "fig=plt.figure(figsize=(7, 5), dpi= 80, facecolor='w', edgecolor='k')\n",
    "plt.bar(fin_arg_scores, fin_scores_erba)\n",
    "plt.show()"
   ]
  },
  {
   "cell_type": "markdown",
   "metadata": {
    "deletable": true,
    "editable": true
   },
   "source": [
    "#### BA-BA "
   ]
  },
  {
   "cell_type": "code",
   "execution_count": 44,
   "metadata": {
    "collapsed": false,
    "deletable": true,
    "editable": true
   },
   "outputs": [],
   "source": [
    "n_layers = multi_ba_ba_nc.network.shape[-1]\n",
    "layer_scores_baba_nc = []\n",
    "for layer_idx in range(n_layers):\n",
    "    proba_layer_baba_nc = InterMeasures.link_conditional(agg_net_baba_nc, \n",
    "                                                      multi_ba_ba_nc.network[:, :, layer_idx])\n",
    "    layer_scores_baba_nc.append(proba_layer_baba_nc)\n",
    "fin_scores_baba_nc = np.sort(layer_scores_baba_nc)\n",
    "fin_arg_scores = np.argsort(layer_scores_baba_nc)"
   ]
  },
  {
   "cell_type": "code",
   "execution_count": 45,
   "metadata": {
    "collapsed": false,
    "deletable": true,
    "editable": true
   },
   "outputs": [
    {
     "data": {
      "image/png": "[encoded data removed]",
      "text/plain": [
       "<matplotlib.figure.Figure at 0x7f3c80c07750>"
      ]
     },
     "metadata": {},
     "output_type": "display_data"
    }
   ],
   "source": [
    "fig=plt.figure(figsize=(7, 5), dpi= 80, facecolor='w', edgecolor='k')\n",
    "plt.bar(fin_arg_scores, fin_scores_baba_nc)\n",
    "plt.show()"
   ]
  },
  {
   "cell_type": "markdown",
   "metadata": {
    "deletable": true,
    "editable": true
   },
   "source": [
    "#### BA-BA Correlation"
   ]
  },
  {
   "cell_type": "code",
   "execution_count": 46,
   "metadata": {
    "collapsed": true,
    "deletable": true,
    "editable": true
   },
   "outputs": [],
   "source": [
    "n_layers = multi_ba_ba_corr_1.network.shape[-1]\n",
    "layer_scores_baba_corr_1 = []\n",
    "for layer_idx in range(n_layers):\n",
    "    proba_layer_baba_corr_1 = InterMeasures.link_conditional(agg_net_baba_corr_1, \n",
    "                                                      multi_ba_ba_corr_1.network[:, :, layer_idx])\n",
    "    layer_scores_baba_corr_1.append(proba_layer_baba_corr_1)\n",
    "fin_scores_baba_corr_1 = np.sort(layer_scores_baba_corr_1)\n",
    "fin_arg_scores = np.argsort(layer_scores_baba_corr_1)"
   ]
  },
  {
   "cell_type": "code",
   "execution_count": 47,
   "metadata": {
    "collapsed": false,
    "deletable": true,
    "editable": true
   },
   "outputs": [
    {
     "data": {
      "image/png": "[encoded data removed]",
      "text/plain": [
       "<matplotlib.figure.Figure at 0x7f3c80774850>"
      ]
     },
     "metadata": {},
     "output_type": "display_data"
    }
   ],
   "source": [
    "fig=plt.figure(figsize=(7, 5), dpi= 80, facecolor='w', edgecolor='k')\n",
    "plt.bar(fin_arg_scores, fin_scores_baba_corr_1)\n",
    "plt.show()"
   ]
  },
  {
   "cell_type": "markdown",
   "metadata": {
    "collapsed": true,
    "deletable": true,
    "editable": true
   },
   "source": [
    "## Interdependence"
   ]
  },
  {
   "cell_type": "markdown",
   "metadata": {},
   "source": [
    "#### ER - ER"
   ]
  },
  {
   "cell_type": "code",
   "execution_count": 48,
   "metadata": {
    "collapsed": false
   },
   "outputs": [],
   "source": [
    "inter_params_erer = InterMeasures.network_interdependence(multi_er_er.network)"
   ]
  },
  {
   "cell_type": "code",
   "execution_count": 49,
   "metadata": {
    "collapsed": false
   },
   "outputs": [
    {
     "data": {
      "text/plain": [
       "'Network interdependence: 2.3359660761'"
      ]
     },
     "execution_count": 49,
     "metadata": {},
     "output_type": "execute_result"
    }
   ],
   "source": [
    "\"Network interdependence: {}\".format(inter_params_erer[0])"
   ]
  },
  {
   "cell_type": "code",
   "execution_count": 50,
   "metadata": {
    "collapsed": true
   },
   "outputs": [],
   "source": [
    "inter_erer = np.sort(inter_params_erer[1])\n",
    "inter_arg_scores_erer = np.argsort(inter_params_erer[1])"
   ]
  },
  {
   "cell_type": "code",
   "execution_count": 51,
   "metadata": {
    "collapsed": false
   },
   "outputs": [
    {
     "data": {
      "image/png": "[encoded data removed]",
      "text/plain": [
       "<matplotlib.figure.Figure at 0x7f3c80a40910>"
      ]
     },
     "metadata": {},
     "output_type": "display_data"
    }
   ],
   "source": [
    "fig=plt.figure(figsize=(7, 5), dpi= 80, facecolor='w', edgecolor='k')\n",
    "plt.bar(inter_arg_scores_erer, inter_erer)\n",
    "plt.show()"
   ]
  },
  {
   "cell_type": "markdown",
   "metadata": {},
   "source": [
    "#### ER - BA"
   ]
  },
  {
   "cell_type": "code",
   "execution_count": 52,
   "metadata": {
    "collapsed": true
   },
   "outputs": [],
   "source": [
    "inter_params_erba = InterMeasures.network_interdependence(multi_er_ba.network)"
   ]
  },
  {
   "cell_type": "code",
   "execution_count": 53,
   "metadata": {
    "collapsed": false
   },
   "outputs": [
    {
     "data": {
      "text/plain": [
       "'Network interdependence: 1.63141451835'"
      ]
     },
     "execution_count": 53,
     "metadata": {},
     "output_type": "execute_result"
    }
   ],
   "source": [
    "\"Network interdependence: {}\".format(inter_params_erba[0])"
   ]
  },
  {
   "cell_type": "code",
   "execution_count": 54,
   "metadata": {
    "collapsed": true
   },
   "outputs": [],
   "source": [
    "inter_erba = np.sort(inter_params_erba[1])\n",
    "inter_arg_scores_erba = np.argsort(inter_params_erba[1])"
   ]
  },
  {
   "cell_type": "code",
   "execution_count": 55,
   "metadata": {
    "collapsed": false
   },
   "outputs": [
    {
     "data": {
      "image/png": "[encoded data removed]",
      "text/plain": [
       "<matplotlib.figure.Figure at 0x7f3c80799c10>"
      ]
     },
     "metadata": {},
     "output_type": "display_data"
    }
   ],
   "source": [
    "fig=plt.figure(figsize=(7, 5), dpi= 80, facecolor='w', edgecolor='k')\n",
    "plt.bar(inter_arg_scores_erba, inter_erba)\n",
    "plt.show()"
   ]
  },
  {
   "cell_type": "markdown",
   "metadata": {},
   "source": [
    "#### BA - BA [No Correlation]"
   ]
  },
  {
   "cell_type": "code",
   "execution_count": 56,
   "metadata": {
    "collapsed": true
   },
   "outputs": [],
   "source": [
    "inter_params_baba_nc = InterMeasures.network_interdependence(multi_ba_ba_nc.network)"
   ]
  },
  {
   "cell_type": "code",
   "execution_count": 57,
   "metadata": {
    "collapsed": false
   },
   "outputs": [
    {
     "data": {
      "text/plain": [
       "'Network interdependence: 3.12296661818'"
      ]
     },
     "execution_count": 57,
     "metadata": {},
     "output_type": "execute_result"
    }
   ],
   "source": [
    "\"Network interdependence: {}\".format(inter_params_baba_nc[0])"
   ]
  },
  {
   "cell_type": "code",
   "execution_count": 58,
   "metadata": {
    "collapsed": true
   },
   "outputs": [],
   "source": [
    "inter_baba_nc = np.sort(inter_params_baba_nc[1])\n",
    "inter_arg_scores_baba_nc = np.argsort(inter_params_baba_nc[1])"
   ]
  },
  {
   "cell_type": "code",
   "execution_count": 59,
   "metadata": {
    "collapsed": false
   },
   "outputs": [
    {
     "data": {
      "image/png": "[encoded data removed]",
      "text/plain": [
       "<matplotlib.figure.Figure at 0x7f3c80c1f450>"
      ]
     },
     "metadata": {},
     "output_type": "display_data"
    }
   ],
   "source": [
    "fig=plt.figure(figsize=(7, 5), dpi= 80, facecolor='w', edgecolor='k')\n",
    "plt.bar(inter_arg_scores_baba_nc, inter_baba_nc)\n",
    "plt.show()"
   ]
  },
  {
   "cell_type": "markdown",
   "metadata": {},
   "source": [
    "#### BA - BA [Correlation]"
   ]
  },
  {
   "cell_type": "code",
   "execution_count": 60,
   "metadata": {
    "collapsed": true
   },
   "outputs": [],
   "source": [
    "inter_params_baba_corr_1 = InterMeasures.network_interdependence(multi_ba_ba_corr_1.network)"
   ]
  },
  {
   "cell_type": "code",
   "execution_count": 61,
   "metadata": {
    "collapsed": false
   },
   "outputs": [
    {
     "data": {
      "text/plain": [
       "'Network interdependence: 2.08505037218'"
      ]
     },
     "execution_count": 61,
     "metadata": {},
     "output_type": "execute_result"
    }
   ],
   "source": [
    "\"Network interdependence: {}\".format(inter_params_baba_corr_1[0])"
   ]
  },
  {
   "cell_type": "code",
   "execution_count": 62,
   "metadata": {
    "collapsed": true
   },
   "outputs": [],
   "source": [
    "inter_baba_corr_1 = np.sort(inter_params_baba_corr_1[1])\n",
    "inter_arg_scores_baba_corr_1 = np.argsort(inter_params_baba_corr_1[1])"
   ]
  },
  {
   "cell_type": "code",
   "execution_count": 63,
   "metadata": {
    "collapsed": false
   },
   "outputs": [
    {
     "data": {
      "image/png": "[encoded data removed]",
      "text/plain": [
       "<matplotlib.figure.Figure at 0x7f3c80993110>"
      ]
     },
     "metadata": {},
     "output_type": "display_data"
    }
   ],
   "source": [
    "fig=plt.figure(figsize=(7, 5), dpi= 80, facecolor='w', edgecolor='k')\n",
    "plt.bar(inter_arg_scores_baba_corr_1, inter_baba_corr_1)\n",
    "plt.show()"
   ]
  }
 ],
 "metadata": {
  "kernelspec": {
   "display_name": "jupyter2_network",
   "language": "python",
   "name": "jupyter2_network"
  },
  "language_info": {
   "codemirror_mode": {
    "name": "ipython",
    "version": 2
   },
   "file_extension": ".py",
   "mimetype": "text/x-python",
   "name": "python",
   "nbconvert_exporter": "python",
   "pygments_lexer": "ipython2",
   "version": "2.7.12"
  }
 },
 "nbformat": 4,
 "nbformat_minor": 2
}
