{
 "cells": [
  {
   "cell_type": "code",
   "execution_count": 1,
   "metadata": {
    "collapsed": true
   },
   "outputs": [],
   "source": [
    "import warnings\n",
    "warnings.filterwarnings('ignore')"
   ]
  },
  {
   "cell_type": "code",
   "execution_count": 2,
   "metadata": {},
   "outputs": [],
   "source": [
    "#%matplotlib notebook\n",
    "import numpy as np\n",
    "import matplotlib.pyplot as plt\n",
    "from nettools.monoplex import NetworkGenerator \n",
    "from nettools.multiplex import MultiplexConstructor\n",
    "from nettools.multiplex import InterMeasures"
   ]
  },
  {
   "cell_type": "markdown",
   "metadata": {},
   "source": [
    "# Generating synthetic networks\n",
    "In this experiment I generate few synthetic networks, in purpose to examinate their properties\n",
    "and find best candidates for future experiment. To realize this aim I implement few methods and classes, which are able to construct Multiplex networks."
   ]
  },
  {
   "cell_type": "markdown",
   "metadata": {},
   "source": [
    "#### Generate signle layer networks"
   ]
  },
  {
   "cell_type": "code",
   "execution_count": 3,
   "metadata": {},
   "outputs": [],
   "source": [
    "ng = NetworkGenerator(300)\n",
    "network_ba_1 = ng.ba_network(m0=10)\n",
    "network_ba_2 = ng.ba_network(m0=10)\n",
    "network_er_1 = ng.er_network(p=0.2)\n",
    "network_er_2 = ng.er_network(p=0.2)\n",
    "network_bb_1 = ng.bb_network(m0=10)"
   ]
  },
  {
   "cell_type": "markdown",
   "metadata": {},
   "source": [
    "#### Generate correlated networks for Barabassi Albert networks\n",
    "To build correlated multilayer network, first we must create layers, which are correlated with other layer.\n",
    "It can be done by rewiring some edges. Degree distribution is preserved but two network will be different, It's mean high degree correlation but low conditional probability between edges on each layer, given other layer."
   ]
  },
  {
   "cell_type": "code",
   "execution_count": 4,
   "metadata": {},
   "outputs": [],
   "source": [
    "mc = MultiplexConstructor()"
   ]
  },
  {
   "cell_type": "code",
   "execution_count": 5,
   "metadata": {},
   "outputs": [],
   "source": [
    "network_corr_ba_1 = mc.rewire_hubs(network_ba_1, rsteps=5000)\n",
    "network_corr_ba_2 = mc.rewire_hubs(network_ba_2, rsteps=150)"
   ]
  },
  {
   "cell_type": "markdown",
   "metadata": {},
   "source": [
    "#### Construct Multiplex networks"
   ]
  },
  {
   "cell_type": "code",
   "execution_count": 6,
   "metadata": {
    "collapsed": true
   },
   "outputs": [],
   "source": [
    "multi_er_er = mc.construct(network_er_1, network_er_2)\n",
    "multi_er_ba = mc.construct(network_er_2, network_ba_1)\n",
    "multi_ba_bb = mc.construct(network_ba_1, network_bb_1)\n",
    "multi_ba_ba_nc = mc.construct(network_ba_2, network_ba_1)\n",
    "multi_ba_ba_corr_1 = mc.construct(network_ba_1, network_corr_ba_1)\n",
    "multi_ba_ba_corr_2 = mc.construct(network_ba_2, network_corr_ba_2)"
   ]
  },
  {
   "cell_type": "markdown",
   "metadata": {},
   "source": [
    "# Measure network properties\n",
    "After network generation and construction, examine basic network properties"
   ]
  },
  {
   "cell_type": "markdown",
   "metadata": {},
   "source": [
    "## Degree correlations\n",
    "Degree correlation as conditional probability, that node i have degree k given degree d on other layer. <br>\n",
    "Using this approach we can check degree correlation for our synthetic correlated multilayer network too."
   ]
  },
  {
   "cell_type": "markdown",
   "metadata": {},
   "source": [
    "#### ER - ER"
   ]
  },
  {
   "cell_type": "code",
   "execution_count": 7,
   "metadata": {
    "collapsed": true
   },
   "outputs": [],
   "source": [
    "n_layers = multi_er_er.network.shape[2]\n",
    "corr_matrix = np.zeros((n_layers, n_layers))\n",
    "for layer_ref in range(n_layers):\n",
    "    for layer_test in range(n_layers):\n",
    "        corr_matrix[layer_ref, layer_test] = InterMeasures.degree_conditional(\n",
    "            multi_er_er.network[:, :, layer_ref], \n",
    "            multi_er_er.network[:, :, layer_test]\n",
    "        )"
   ]
  },
  {
   "cell_type": "code",
   "execution_count": 8,
   "metadata": {},
   "outputs": [
    {
     "data": {
      "text/plain": [
       "array([[ 1.        ,  0.06666667],\n",
       "       [ 0.06666667,  1.        ]])"
      ]
     },
     "execution_count": 8,
     "metadata": {},
     "output_type": "execute_result"
    }
   ],
   "source": [
    "corr_matrix"
   ]
  },
  {
   "cell_type": "markdown",
   "metadata": {},
   "source": [
    "#### ER - BA"
   ]
  },
  {
   "cell_type": "code",
   "execution_count": 9,
   "metadata": {
    "collapsed": true
   },
   "outputs": [],
   "source": [
    "n_layers = multi_er_ba.network.shape[2]\n",
    "corr_matrix = np.zeros((n_layers, n_layers))\n",
    "for layer_ref in range(n_layers):\n",
    "    for layer_test in range(n_layers):\n",
    "        corr_matrix[layer_ref, layer_test] = InterMeasures.degree_conditional(\n",
    "            multi_er_ba.network[:, :, layer_ref], \n",
    "            multi_er_ba.network[:, :, layer_test]\n",
    "        )"
   ]
  },
  {
   "cell_type": "code",
   "execution_count": 10,
   "metadata": {},
   "outputs": [
    {
     "data": {
      "text/plain": [
       "array([[ 1.,  0.],\n",
       "       [ 0.,  1.]])"
      ]
     },
     "execution_count": 10,
     "metadata": {},
     "output_type": "execute_result"
    }
   ],
   "source": [
    "corr_matrix"
   ]
  },
  {
   "cell_type": "markdown",
   "metadata": {},
   "source": [
    "#### BA - BB"
   ]
  },
  {
   "cell_type": "code",
   "execution_count": 11,
   "metadata": {
    "collapsed": true
   },
   "outputs": [],
   "source": [
    "n_layers = multi_ba_bb.network.shape[2]\n",
    "corr_matrix = np.zeros((n_layers, n_layers))\n",
    "for layer_ref in range(n_layers):\n",
    "    for layer_test in range(n_layers):\n",
    "        corr_matrix[layer_ref, layer_test] = InterMeasures.degree_conditional(\n",
    "            multi_ba_bb.network[:, :, layer_ref], \n",
    "            multi_ba_bb.network[:, :, layer_test]\n",
    "        )"
   ]
  },
  {
   "cell_type": "code",
   "execution_count": 12,
   "metadata": {},
   "outputs": [
    {
     "data": {
      "text/plain": [
       "array([[ 1.        ,  0.15666667],\n",
       "       [ 0.15666667,  1.        ]])"
      ]
     },
     "execution_count": 12,
     "metadata": {},
     "output_type": "execute_result"
    }
   ],
   "source": [
    "corr_matrix"
   ]
  },
  {
   "cell_type": "markdown",
   "metadata": {},
   "source": [
    "#### BA - BA"
   ]
  },
  {
   "cell_type": "code",
   "execution_count": 13,
   "metadata": {
    "collapsed": true
   },
   "outputs": [],
   "source": [
    "n_layers = multi_ba_ba_nc.network.shape[2]\n",
    "corr_matrix = np.zeros((n_layers, n_layers))\n",
    "for layer_ref in range(n_layers):\n",
    "    for layer_test in range(n_layers):\n",
    "        corr_matrix[layer_ref, layer_test] = InterMeasures.degree_conditional(\n",
    "            multi_ba_ba_nc.network[:, :, layer_ref], \n",
    "            multi_ba_ba_nc.network[:, :, layer_test]\n",
    "        )"
   ]
  },
  {
   "cell_type": "code",
   "execution_count": 14,
   "metadata": {},
   "outputs": [
    {
     "data": {
      "text/plain": [
       "array([[ 1.        ,  0.14333333],\n",
       "       [ 0.14333333,  1.        ]])"
      ]
     },
     "execution_count": 14,
     "metadata": {},
     "output_type": "execute_result"
    }
   ],
   "source": [
    "corr_matrix"
   ]
  },
  {
   "cell_type": "markdown",
   "metadata": {},
   "source": [
    "Lower *m* parameter leads to higher correlation between nodes."
   ]
  },
  {
   "cell_type": "markdown",
   "metadata": {},
   "source": [
    "#### BA - BA [Correlation]"
   ]
  },
  {
   "cell_type": "code",
   "execution_count": 15,
   "metadata": {},
   "outputs": [],
   "source": [
    "n_layers = multi_ba_ba_corr_1.network.shape[2]\n",
    "corr_matrix = np.zeros((n_layers, n_layers))\n",
    "for layer_ref in range(n_layers):\n",
    "    for layer_test in range(n_layers):\n",
    "        corr_matrix[layer_ref, layer_test] = InterMeasures.degree_conditional(\n",
    "            multi_ba_ba_corr_1.network[:, :, layer_ref], \n",
    "            multi_ba_ba_corr_1.network[:, :, layer_test]\n",
    "        )"
   ]
  },
  {
   "cell_type": "code",
   "execution_count": 16,
   "metadata": {},
   "outputs": [
    {
     "data": {
      "text/plain": [
       "array([[ 1.,  1.],\n",
       "       [ 1.,  1.]])"
      ]
     },
     "execution_count": 16,
     "metadata": {},
     "output_type": "execute_result"
    }
   ],
   "source": [
    "corr_matrix"
   ]
  },
  {
   "cell_type": "markdown",
   "metadata": {},
   "source": [
    "As we can see from previous reaserch, for first three networks there is no correlation between layers.\n",
    "Only last multilayer network is highly correlated as it was expected."
   ]
  },
  {
   "cell_type": "markdown",
   "metadata": {},
   "source": [
    "## Degree distribution\n",
    "Degree distribution for each network."
   ]
  },
  {
   "cell_type": "markdown",
   "metadata": {},
   "source": [
    "#### ER - ER"
   ]
  },
  {
   "cell_type": "code",
   "execution_count": 17,
   "metadata": {
    "collapsed": true
   },
   "outputs": [],
   "source": [
    "deg_dist_erer = InterMeasures.degree_distribution(multi_er_er.network)\n",
    "kcorr_erer = InterMeasures.kendal_corr(deg_dist_erer)"
   ]
  },
  {
   "cell_type": "code",
   "execution_count": 18,
   "metadata": {},
   "outputs": [
    {
     "data": {
      "image/png": "[encoded data removed]",
      "text/plain": [
       "<matplotlib.figure.Figure at 0x9156950>"
      ]
     },
     "metadata": {},
     "output_type": "display_data"
    }
   ],
   "source": [
    "fig=plt.figure(figsize=(5, 5), dpi= 80, facecolor='w', edgecolor='k')\n",
    "plt.imshow(np.repeat(deg_dist_erer, 100, axis=0))\n",
    "plt.show()"
   ]
  },
  {
   "cell_type": "markdown",
   "metadata": {},
   "source": [
    "By looking at degree distribution plot for two random network we can see that, both layers are not correlated and for each network degree is Poisson distributed, all nodes have degree not far from distribution mean value.\n",
    "Using random network in experiment I want to check *Buldyrev* thesis about percolation threshold for interdependent networks *Catastrophic cascade of failures in interdependent networks*"
   ]
  },
  {
   "cell_type": "markdown",
   "metadata": {},
   "source": [
    "#### ER - BA"
   ]
  },
  {
   "cell_type": "code",
   "execution_count": 19,
   "metadata": {
    "collapsed": true
   },
   "outputs": [],
   "source": [
    "deg_dist_erba = InterMeasures.degree_distribution(multi_er_ba.network)\n",
    "kcorr_erba = InterMeasures.kendal_corr(deg_dist_erba)"
   ]
  },
  {
   "cell_type": "code",
   "execution_count": 20,
   "metadata": {},
   "outputs": [
    {
     "data": {
      "image/png": "[encoded data removed]",
      "text/plain": [
       "<matplotlib.figure.Figure at 0x91567d0>"
      ]
     },
     "metadata": {},
     "output_type": "display_data"
    }
   ],
   "source": [
    "fig=plt.figure(figsize=(5, 5), dpi= 80, facecolor='w', edgecolor='k')\n",
    "plt.imshow(np.repeat(deg_dist_erba, 100, axis=0))\n",
    "plt.show()"
   ]
  },
  {
   "cell_type": "markdown",
   "metadata": {},
   "source": [
    "Network constructed using **BA** network and **ER** network is also not correlated network. As expected random layer is Poisson distributed when BA layer is power-law network, few hubs and many small degree nodes."
   ]
  },
  {
   "cell_type": "markdown",
   "metadata": {},
   "source": [
    "#### BA - BB"
   ]
  },
  {
   "cell_type": "markdown",
   "metadata": {},
   "source": [
    "Multilayer network made by concatenation **Barabasi Albert** network and **Barabasi Bianconi** network have little lower correlation than network **BA - BA**, by looking at degree distribution also we can see that degrees are different *distributed than for **BA** network - *Hubs are the oldest nodes*, **BB** network hubs can be at different possitions*. "
   ]
  },
  {
   "cell_type": "code",
   "execution_count": 21,
   "metadata": {
    "collapsed": true
   },
   "outputs": [],
   "source": [
    "deg_dist_babb = InterMeasures.degree_distribution(multi_ba_bb.network)\n",
    "kcorr_babb = InterMeasures.kendal_corr(deg_dist_babb)"
   ]
  },
  {
   "cell_type": "code",
   "execution_count": 22,
   "metadata": {},
   "outputs": [
    {
     "data": {
      "image/png": "[encoded data removed]",
      "text/plain": [
       "<matplotlib.figure.Figure at 0x91e03d0>"
      ]
     },
     "metadata": {},
     "output_type": "display_data"
    }
   ],
   "source": [
    "fig=plt.figure(figsize=(5, 5), dpi= 80, facecolor='w', edgecolor='k')\n",
    "plt.imshow(np.repeat(deg_dist_babb, 100, axis=0))\n",
    "plt.show()"
   ]
  },
  {
   "cell_type": "markdown",
   "metadata": {
    "collapsed": true
   },
   "source": [
    "#### BA - BA [No correlation]"
   ]
  },
  {
   "cell_type": "code",
   "execution_count": 23,
   "metadata": {},
   "outputs": [],
   "source": [
    "deg_dist_baba = InterMeasures.degree_distribution(multi_ba_ba_nc.network)\n",
    "kcorr_baba = InterMeasures.kendal_corr(deg_dist_baba)"
   ]
  },
  {
   "cell_type": "code",
   "execution_count": 24,
   "metadata": {},
   "outputs": [
    {
     "data": {
      "image/png": "[encoded data removed]",
      "text/plain": [
       "<matplotlib.figure.Figure at 0x131f7390>"
      ]
     },
     "metadata": {},
     "output_type": "display_data"
    }
   ],
   "source": [
    "fig=plt.figure(figsize=(5, 5), dpi= 80, facecolor='w', edgecolor='k')\n",
    "plt.imshow(np.repeat(deg_dist_baba, 100, axis=0))\n",
    "plt.show()"
   ]
  },
  {
   "cell_type": "markdown",
   "metadata": {},
   "source": [
    "#### BA - BA [Correlated]"
   ]
  },
  {
   "cell_type": "code",
   "execution_count": 25,
   "metadata": {
    "collapsed": true
   },
   "outputs": [],
   "source": [
    "deg_dist_baba_corr = InterMeasures.degree_distribution(multi_ba_ba_corr_1.network)\n",
    "kcorr_baba_corr = InterMeasures.kendal_corr(deg_dist_baba_corr)"
   ]
  },
  {
   "cell_type": "code",
   "execution_count": 26,
   "metadata": {},
   "outputs": [
    {
     "data": {
      "image/png": "[encoded data removed]",
      "text/plain": [
       "<matplotlib.figure.Figure at 0x132a1c90>"
      ]
     },
     "metadata": {},
     "output_type": "display_data"
    }
   ],
   "source": [
    "fig=plt.figure(figsize=(5, 5), dpi= 80, facecolor='w', edgecolor='k')\n",
    "plt.imshow(np.repeat(deg_dist_baba_corr, 100, axis=0))\n",
    "plt.show()"
   ]
  },
  {
   "cell_type": "markdown",
   "metadata": {},
   "source": [
    "Last degree distribution plot shows us that besides rewiring many nodes, *degree distribution* for rewired layer is **preserved**. That leads to the fact that our network have **same** *degree distribution* for each layer and two layers are **highly correlated**."
   ]
  },
  {
   "cell_type": "markdown",
   "metadata": {},
   "source": [
    "# Participation coefficient\n",
    "Participation coefficient measure in how many layers node participate. Some nodes could have high degree in one layer and very small degree in other, participation coefficient helps us to measure how node degrees are distributed across all layers."
   ]
  },
  {
   "cell_type": "markdown",
   "metadata": {},
   "source": [
    "#### ER - ER"
   ]
  },
  {
   "cell_type": "code",
   "execution_count": 27,
   "metadata": {
    "collapsed": true
   },
   "outputs": [],
   "source": [
    "agg_net_erer = InterMeasures.aggregate(multi_er_er.network)"
   ]
  },
  {
   "cell_type": "code",
   "execution_count": 28,
   "metadata": {},
   "outputs": [
    {
     "data": {
      "image/png": "[encoded data removed]",
      "text/plain": [
       "<matplotlib.figure.Figure at 0x132ef210>"
      ]
     },
     "metadata": {},
     "output_type": "display_data"
    }
   ],
   "source": [
    "pc_erer = InterMeasures.participation_coeff(multi_er_er.network, agg_net_erer)\n",
    "plt.figure()\n",
    "plt.plot(np.sort(pc_erer)[::-1], '.r')\n",
    "plt.show()"
   ]
  },
  {
   "cell_type": "markdown",
   "metadata": {},
   "source": [
    "In Erdos Renyi networks all nodes have similiar degrees, so probably participation coefficient highly depends on network degree distribution mean ratio. In analyzed network layers have similiar mean value, that's why probably participation coefficient is nearly equal 1.0."
   ]
  },
  {
   "cell_type": "markdown",
   "metadata": {},
   "source": [
    "#### ER - BA"
   ]
  },
  {
   "cell_type": "code",
   "execution_count": 29,
   "metadata": {
    "collapsed": true
   },
   "outputs": [],
   "source": [
    "agg_net_erba = InterMeasures.aggregate(multi_er_ba.network)"
   ]
  },
  {
   "cell_type": "code",
   "execution_count": 30,
   "metadata": {},
   "outputs": [
    {
     "data": {
      "image/png": "[encoded data removed]",
      "text/plain": [
       "<matplotlib.figure.Figure at 0x135bd4b0>"
      ]
     },
     "metadata": {},
     "output_type": "display_data"
    }
   ],
   "source": [
    "pc_erba = InterMeasures.participation_coeff(multi_er_ba.network, agg_net_erba)\n",
    "plt.figure()\n",
    "plt.plot(np.sort(pc_erba)[::-1], '.r')\n",
    "plt.show()"
   ]
  },
  {
   "cell_type": "markdown",
   "metadata": {},
   "source": [
    "Participation coefficient for mixed network **ER + BA** highly depends on random netork mean value.\n",
    "* When value is high, nodes from random layer have comparable degree to hubs in BA network [small coefficient]\n",
    "* When value is low, many nodes from random layer have comparable degree to low connected nodes from BA layer, in BA network there is a lot of low connected nodes, thats imply high values of praticipation coeff"
   ]
  },
  {
   "cell_type": "markdown",
   "metadata": {},
   "source": [
    "#### BA - BB"
   ]
  },
  {
   "cell_type": "code",
   "execution_count": 31,
   "metadata": {},
   "outputs": [],
   "source": [
    "agg_net_babb = InterMeasures.aggregate(multi_ba_bb.network)"
   ]
  },
  {
   "cell_type": "code",
   "execution_count": 32,
   "metadata": {},
   "outputs": [
    {
     "data": {
      "image/png": "[encoded data removed]",
      "text/plain": [
       "<matplotlib.figure.Figure at 0x135de150>"
      ]
     },
     "metadata": {},
     "output_type": "display_data"
    }
   ],
   "source": [
    "pc_babb = InterMeasures.participation_coeff(multi_ba_bb.network, agg_net_babb)\n",
    "plt.figure()\n",
    "plt.plot(np.sort(pc_babb)[::-1], '.r')\n",
    "plt.show()"
   ]
  },
  {
   "cell_type": "markdown",
   "metadata": {},
   "source": [
    "Participation coefficient for **BA-BB** network looks very similiar to **BA-BA** network, this might be couse by scale-free property of both networks (*many small connected nodes*, *few hubs*). Despite that participation coefficient for **BA-BA** is little higher, probably becouse hubs for **BA-BA** have similiar position (*the oldest nodes*), for in **BB** networks *hubs* position is related to fitness parameter."
   ]
  },
  {
   "cell_type": "markdown",
   "metadata": {},
   "source": [
    "#### BA - BA"
   ]
  },
  {
   "cell_type": "code",
   "execution_count": 33,
   "metadata": {
    "collapsed": true
   },
   "outputs": [],
   "source": [
    "agg_net_baba_nc = InterMeasures.aggregate(multi_ba_ba_nc.network)"
   ]
  },
  {
   "cell_type": "code",
   "execution_count": 34,
   "metadata": {},
   "outputs": [
    {
     "data": {
      "image/png": "[encoded data removed]",
      "text/plain": [
       "<matplotlib.figure.Figure at 0x139887d0>"
      ]
     },
     "metadata": {},
     "output_type": "display_data"
    }
   ],
   "source": [
    "pc_baba_nc = InterMeasures.participation_coeff(multi_ba_ba_nc.network, agg_net_baba_nc)\n",
    "plt.figure()\n",
    "plt.plot(np.sort(pc_baba_nc)[::-1], '.r')\n",
    "plt.show()"
   ]
  },
  {
   "cell_type": "markdown",
   "metadata": {},
   "source": [
    "Participation coefficient value for two *Barabassi Albert* networks depends on parameter *m*, which characterize this type of network. When we divide *p* by 2 in random layer [**ER - ER** network] and we divide *m* by 2 for **BA** layer in [**BA - BA**] network, we will see that **BA-BA** Multilayer is more robust.\n",
    "\n",
    "Same *m* for two **BA** layer results in better participation, than same *p* for two **ER** layers."
   ]
  },
  {
   "cell_type": "markdown",
   "metadata": {},
   "source": [
    "#### BA - BA [Correlated]"
   ]
  },
  {
   "cell_type": "code",
   "execution_count": 35,
   "metadata": {
    "collapsed": true
   },
   "outputs": [],
   "source": [
    "agg_net_baba_corr_1 = InterMeasures.aggregate(multi_ba_ba_corr_1.network)"
   ]
  },
  {
   "cell_type": "code",
   "execution_count": 36,
   "metadata": {},
   "outputs": [
    {
     "data": {
      "image/png": "[encoded data removed]",
      "text/plain": [
       "<matplotlib.figure.Figure at 0x139ad650>"
      ]
     },
     "metadata": {},
     "output_type": "display_data"
    }
   ],
   "source": [
    "pc_baba_corr_1 = InterMeasures.participation_coeff(multi_ba_ba_corr_1.network, agg_net_baba_corr_1)\n",
    "plt.figure()\n",
    "plt.plot(np.sort(pc_baba_corr_1)[::-1], '.r')\n",
    "plt.show()"
   ]
  },
  {
   "cell_type": "markdown",
   "metadata": {},
   "source": [
    "## Participation Coefficient and Aggregated Degree "
   ]
  },
  {
   "cell_type": "markdown",
   "metadata": {},
   "source": [
    "Next for my reaserch I ploted *participation coefficient* with aggregated degree normalized as *z-score*. \n",
    "Analysing results we can discover very interesting networks features, for example we can deduce how much contribution have high connected nodes in each layers."
   ]
  },
  {
   "cell_type": "markdown",
   "metadata": {},
   "source": [
    "#### ER - ER"
   ]
  },
  {
   "cell_type": "code",
   "execution_count": 37,
   "metadata": {
    "collapsed": true
   },
   "outputs": [],
   "source": [
    "degree_agg_erer = InterMeasures.degree_distribution(agg_net_erer)\n",
    "z_score_erer = (degree_agg_erer - np.mean(degree_agg_erer)) / np.std(degree_agg_erer)"
   ]
  },
  {
   "cell_type": "code",
   "execution_count": 38,
   "metadata": {},
   "outputs": [
    {
     "data": {
      "image/png": "[encoded data removed]",
      "text/plain": [
       "<matplotlib.figure.Figure at 0x139ad430>"
      ]
     },
     "metadata": {},
     "output_type": "display_data"
    }
   ],
   "source": [
    "plt.figure()\n",
    "plt.scatter(pc_erer, z_score_erer)\n",
    "plt.show()"
   ]
  },
  {
   "cell_type": "markdown",
   "metadata": {},
   "source": [
    "In this plot can be seen that for two random layers all nodes have **participation coefficient** nearly equal 1.\n",
    "In random layers degree distribution have low standard deviation, this fact implies that, when all nodes are connected and all nodes have similiar degrees, we have uniformly distributed participation between layers, this fact can be seen at above plot **PC** for **ER - ER** network is equal *~ [0.96, 1.0]* for **90% of nodes**."
   ]
  },
  {
   "cell_type": "markdown",
   "metadata": {},
   "source": [
    "#### ER - BA"
   ]
  },
  {
   "cell_type": "code",
   "execution_count": 39,
   "metadata": {
    "collapsed": true
   },
   "outputs": [],
   "source": [
    "degree_agg_erba = InterMeasures.degree_distribution(agg_net_erba)\n",
    "z_score_erba = (degree_agg_erba - np.mean(degree_agg_erba)) / np.std(degree_agg_erba)"
   ]
  },
  {
   "cell_type": "code",
   "execution_count": 40,
   "metadata": {},
   "outputs": [
    {
     "data": {
      "image/png": "[encoded data removed]",
      "text/plain": [
       "<matplotlib.figure.Figure at 0x13d25730>"
      ]
     },
     "metadata": {},
     "output_type": "display_data"
    }
   ],
   "source": [
    "plt.figure()\n",
    "plt.scatter(pc_erba, z_score_erba)\n",
    "plt.show()"
   ]
  },
  {
   "cell_type": "markdown",
   "metadata": {},
   "source": [
    "Next three types of networks will be analysed **ER - BA**, **BA - BB**, **BA - BA**. Results plot strictly dependes on analysed network properties, in first case concatenation *random network* and *barabassi albert network* have **PC** from range **[0.5, 1.0]**, this fact probably highly depend on parameter **p** for *random network* and **m0** for *barabassi albert network*. But in analysed case low degree nodes in **BA** network have similiar degrees as **ER** network nodes, but still there is few highly connected nodes, which leads to lower **PC**. "
   ]
  },
  {
   "cell_type": "markdown",
   "metadata": {},
   "source": [
    "#### BA - BB"
   ]
  },
  {
   "cell_type": "code",
   "execution_count": 41,
   "metadata": {
    "collapsed": true
   },
   "outputs": [],
   "source": [
    "degree_agg_babb = InterMeasures.degree_distribution(agg_net_babb)\n",
    "z_score_babb = (degree_agg_babb - np.mean(degree_agg_babb)) / np.std(degree_agg_babb)"
   ]
  },
  {
   "cell_type": "code",
   "execution_count": 42,
   "metadata": {},
   "outputs": [
    {
     "data": {
      "image/png": "[encoded data removed]",
      "text/plain": [
       "<matplotlib.figure.Figure at 0x13d07050>"
      ]
     },
     "metadata": {},
     "output_type": "display_data"
    }
   ],
   "source": [
    "plt.figure()\n",
    "plt.scatter(pc_babb, z_score_babb)\n",
    "plt.show()"
   ]
  },
  {
   "cell_type": "markdown",
   "metadata": {},
   "source": [
    "In second plot we can see that most nodes have high **PC**, minly high **PC** nodes are low connected noddes, which are the same for both *scale-free* networks, but differently than **BA**, **BB** have hubs on different possition, thats why few highly connected nodes have low **PC**."
   ]
  },
  {
   "cell_type": "markdown",
   "metadata": {},
   "source": [
    "#### BA - BA"
   ]
  },
  {
   "cell_type": "code",
   "execution_count": 43,
   "metadata": {
    "collapsed": true
   },
   "outputs": [],
   "source": [
    "degree_agg_baba_nc = InterMeasures.degree_distribution(agg_net_baba_nc)\n",
    "z_score_baba_nc = (degree_agg_baba_nc - np.mean(degree_agg_baba_nc)) / np.std(degree_agg_baba_nc)"
   ]
  },
  {
   "cell_type": "code",
   "execution_count": 44,
   "metadata": {},
   "outputs": [
    {
     "data": {
      "image/png": "[encoded data removed]",
      "text/plain": [
       "<matplotlib.figure.Figure at 0x13992f70>"
      ]
     },
     "metadata": {},
     "output_type": "display_data"
    }
   ],
   "source": [
    "plt.figure()\n",
    "plt.scatter(pc_baba_nc, z_score_baba_nc)\n",
    "plt.show()"
   ]
  },
  {
   "cell_type": "markdown",
   "metadata": {},
   "source": [
    "**BA - BA** Network have rather high **PC** it depends on fact that in **BA** network the oldest nodes have high degree, so \n",
    "highly and low connected nodes are on similiar positions."
   ]
  },
  {
   "cell_type": "markdown",
   "metadata": {},
   "source": [
    "## Probability approach"
   ]
  },
  {
   "cell_type": "markdown",
   "metadata": {},
   "source": [
    "In reaserch I decided to visualize probability approach of having node on test layer given test layer.\n",
    "As expected there is not correlation between edges even for correlated **BA - BA** network"
   ]
  },
  {
   "cell_type": "markdown",
   "metadata": {},
   "source": [
    "#### ER - ER"
   ]
  },
  {
   "cell_type": "code",
   "execution_count": 45,
   "metadata": {},
   "outputs": [
    {
     "data": {
      "image/png": "[encoded data removed]",
      "text/plain": [
       "<matplotlib.figure.Figure at 0x138ad9f0>"
      ]
     },
     "metadata": {},
     "output_type": "display_data"
    }
   ],
   "source": [
    "proba_erer = InterMeasures.link_layer_dependence(multi_er_er.network)\n",
    "fig=plt.figure(figsize=(2, 2), dpi= 80, facecolor='w', edgecolor='k')\n",
    "proba_reshaped_erer = np.repeat(np.repeat(proba_erer, 10, axis=0), 10, axis=1)\n",
    "plt.imshow(proba_reshaped_erer)\n",
    "plt.show()\n"
   ]
  },
  {
   "cell_type": "markdown",
   "metadata": {},
   "source": [
    "#### ER - BA"
   ]
  },
  {
   "cell_type": "code",
   "execution_count": 46,
   "metadata": {},
   "outputs": [
    {
     "data": {
      "image/png": "[encoded data removed]",
      "text/plain": [
       "<matplotlib.figure.Figure at 0x135abdf0>"
      ]
     },
     "metadata": {},
     "output_type": "display_data"
    }
   ],
   "source": [
    "proba_erba = InterMeasures.link_layer_dependence(multi_er_ba.network)\n",
    "fig=plt.figure(figsize=(2, 2), dpi= 80, facecolor='w', edgecolor='k')\n",
    "proba_reshaped_erba = np.repeat(np.repeat(proba_erba, 10, axis=0), 10, axis=1)\n",
    "plt.imshow(proba_reshaped_erba)\n",
    "plt.show()\n"
   ]
  },
  {
   "cell_type": "markdown",
   "metadata": {},
   "source": [
    "#### BA - BB"
   ]
  },
  {
   "cell_type": "code",
   "execution_count": 47,
   "metadata": {},
   "outputs": [
    {
     "data": {
      "image/png": "[encoded data removed]",
      "text/plain": [
       "<matplotlib.figure.Figure at 0x132fb450>"
      ]
     },
     "metadata": {},
     "output_type": "display_data"
    }
   ],
   "source": [
    "proba_babb = InterMeasures.link_layer_dependence(multi_ba_bb.network)\n",
    "fig=plt.figure(figsize=(2, 2), dpi= 80, facecolor='w', edgecolor='k')\n",
    "proba_reshaped_babb = np.repeat(np.repeat(proba_babb, 10, axis=0), 10, axis=1)\n",
    "plt.imshow(proba_reshaped_babb)\n",
    "plt.show()"
   ]
  },
  {
   "cell_type": "markdown",
   "metadata": {},
   "source": [
    "#### BA-BA"
   ]
  },
  {
   "cell_type": "code",
   "execution_count": 48,
   "metadata": {},
   "outputs": [
    {
     "data": {
      "image/png": "[encoded data removed]",
      "text/plain": [
       "<matplotlib.figure.Figure at 0x138c6bf0>"
      ]
     },
     "metadata": {},
     "output_type": "display_data"
    }
   ],
   "source": [
    "proba_baba_nc = InterMeasures.link_layer_dependence(multi_ba_ba_nc.network)\n",
    "fig=plt.figure(figsize=(2, 2), dpi= 80, facecolor='w', edgecolor='k')\n",
    "proba_reshaped_baba_nc = np.repeat(np.repeat(proba_baba_nc, 10, axis=0), 10, axis=1)\n",
    "plt.imshow(proba_reshaped_baba_nc)\n",
    "plt.show()"
   ]
  },
  {
   "cell_type": "markdown",
   "metadata": {},
   "source": [
    "#### BA-BA [Correlation]"
   ]
  },
  {
   "cell_type": "code",
   "execution_count": 49,
   "metadata": {},
   "outputs": [
    {
     "data": {
      "image/png": "[encoded data removed]",
      "text/plain": [
       "<matplotlib.figure.Figure at 0x91e0590>"
      ]
     },
     "metadata": {},
     "output_type": "display_data"
    }
   ],
   "source": [
    "proba_baba_corr = InterMeasures.link_layer_dependence(multi_ba_ba_corr_1.network)\n",
    "fig=plt.figure(figsize=(2, 2), dpi= 80, facecolor='w', edgecolor='k')\n",
    "proba_reshaped_baba_corr = np.repeat(np.repeat(proba_baba_corr, 10, axis=0), 10, axis=1)\n",
    "plt.imshow(proba_reshaped_baba_corr)\n",
    "plt.show()"
   ]
  },
  {
   "cell_type": "markdown",
   "metadata": {},
   "source": [
    "## Probability approach with aggregated layer"
   ]
  },
  {
   "cell_type": "markdown",
   "metadata": {},
   "source": [
    "Using probability approach with aggregated network we can obtain information about single layer importance.\n",
    "In future this information can be use for example to create better representation of aggregated weighted network."
   ]
  },
  {
   "cell_type": "markdown",
   "metadata": {},
   "source": [
    "#### ER-ER"
   ]
  },
  {
   "cell_type": "code",
   "execution_count": 50,
   "metadata": {},
   "outputs": [],
   "source": [
    "n_layers = multi_er_er.network.shape[-1]\n",
    "layer_scores_erer = []\n",
    "for layer_idx in range(n_layers):\n",
    "    proba_layer_erer = InterMeasures.link_conditional(agg_net_erer, \n",
    "                                                      multi_er_er.network[:, :, layer_idx])\n",
    "    layer_scores_erer.append(proba_layer_erer)\n",
    "fin_scores_erer = np.sort(layer_scores_erer)\n",
    "fin_arg_scores = np.argsort(layer_scores_erer)"
   ]
  },
  {
   "cell_type": "code",
   "execution_count": 51,
   "metadata": {},
   "outputs": [
    {
     "data": {
      "image/png": "[encoded data removed]",
      "text/plain": [
       "<matplotlib.figure.Figure at 0x9231d10>"
      ]
     },
     "metadata": {},
     "output_type": "display_data"
    }
   ],
   "source": [
    "fig=plt.figure(figsize=(7, 5), dpi= 80, facecolor='w', edgecolor='k')\n",
    "plt.bar(fin_arg_scores, fin_scores_erer)\n",
    "plt.show()"
   ]
  },
  {
   "cell_type": "markdown",
   "metadata": {},
   "source": [
    "#### ER-BA"
   ]
  },
  {
   "cell_type": "code",
   "execution_count": 52,
   "metadata": {
    "collapsed": true
   },
   "outputs": [],
   "source": [
    "n_layers = multi_er_ba.network.shape[-1]\n",
    "layer_scores_erba = []\n",
    "for layer_idx in range(n_layers):\n",
    "    proba_layer_erba = InterMeasures.link_conditional(agg_net_erba, \n",
    "                                                      multi_er_ba.network[:, :, layer_idx])\n",
    "    layer_scores_erba.append(proba_layer_erba)\n",
    "fin_scores_erba = np.sort(layer_scores_erba)\n",
    "fin_arg_scores = np.argsort(layer_scores_erba)"
   ]
  },
  {
   "cell_type": "code",
   "execution_count": 53,
   "metadata": {},
   "outputs": [
    {
     "data": {
      "image/png": "[encoded data removed]",
      "text/plain": [
       "<matplotlib.figure.Figure at 0x131eb0f0>"
      ]
     },
     "metadata": {},
     "output_type": "display_data"
    }
   ],
   "source": [
    "fig=plt.figure(figsize=(7, 5), dpi= 80, facecolor='w', edgecolor='k')\n",
    "plt.bar(fin_arg_scores, fin_scores_erba)\n",
    "plt.show()"
   ]
  },
  {
   "cell_type": "markdown",
   "metadata": {},
   "source": [
    "#### BA - BB"
   ]
  },
  {
   "cell_type": "code",
   "execution_count": 54,
   "metadata": {
    "collapsed": true
   },
   "outputs": [],
   "source": [
    "n_layers = multi_ba_bb.network.shape[-1]\n",
    "layer_scores_babb = []\n",
    "for layer_idx in range(n_layers):\n",
    "    proba_layer_babb = InterMeasures.link_conditional(agg_net_babb, multi_ba_bb.network[:, :, layer_idx])\n",
    "    layer_scores_babb.append(proba_layer_babb)\n",
    "fin_scores_babb = np.sort(layer_scores_babb)\n",
    "fin_arg_scores = np.argsort(layer_scores_babb)"
   ]
  },
  {
   "cell_type": "code",
   "execution_count": 55,
   "metadata": {},
   "outputs": [
    {
     "data": {
      "image/png": "[encoded data removed]",
      "text/plain": [
       "<matplotlib.figure.Figure at 0x139c2350>"
      ]
     },
     "metadata": {},
     "output_type": "display_data"
    }
   ],
   "source": [
    "fig=plt.figure(figsize=(7, 5), dpi= 80, facecolor='w', edgecolor='k')\n",
    "plt.bar(fin_arg_scores, fin_scores_babb)\n",
    "plt.show()"
   ]
  },
  {
   "cell_type": "markdown",
   "metadata": {},
   "source": [
    "#### BA-BA "
   ]
  },
  {
   "cell_type": "code",
   "execution_count": 56,
   "metadata": {},
   "outputs": [],
   "source": [
    "n_layers = multi_ba_ba_nc.network.shape[-1]\n",
    "layer_scores_baba_nc = []\n",
    "for layer_idx in range(n_layers):\n",
    "    proba_layer_baba_nc = InterMeasures.link_conditional(agg_net_baba_nc, \n",
    "                                                      multi_ba_ba_nc.network[:, :, layer_idx])\n",
    "    layer_scores_baba_nc.append(proba_layer_baba_nc)\n",
    "fin_scores_baba_nc = np.sort(layer_scores_baba_nc)\n",
    "fin_arg_scores = np.argsort(layer_scores_baba_nc)"
   ]
  },
  {
   "cell_type": "code",
   "execution_count": 57,
   "metadata": {},
   "outputs": [
    {
     "data": {
      "image/png": "[encoded data removed]",
      "text/plain": [
       "<matplotlib.figure.Figure at 0x12e5a8b0>"
      ]
     },
     "metadata": {},
     "output_type": "display_data"
    }
   ],
   "source": [
    "fig=plt.figure(figsize=(7, 5), dpi= 80, facecolor='w', edgecolor='k')\n",
    "plt.bar(fin_arg_scores, fin_scores_baba_nc)\n",
    "plt.show()"
   ]
  },
  {
   "cell_type": "markdown",
   "metadata": {},
   "source": [
    "#### BA-BA Correlation"
   ]
  },
  {
   "cell_type": "code",
   "execution_count": 58,
   "metadata": {
    "collapsed": true
   },
   "outputs": [],
   "source": [
    "n_layers = multi_ba_ba_corr_1.network.shape[-1]\n",
    "layer_scores_baba_corr_1 = []\n",
    "for layer_idx in range(n_layers):\n",
    "    proba_layer_baba_corr_1 = InterMeasures.link_conditional(agg_net_baba_corr_1, \n",
    "                                                      multi_ba_ba_corr_1.network[:, :, layer_idx])\n",
    "    layer_scores_baba_corr_1.append(proba_layer_baba_corr_1)\n",
    "fin_scores_baba_corr_1 = np.sort(layer_scores_baba_corr_1)\n",
    "fin_arg_scores = np.argsort(layer_scores_baba_corr_1)"
   ]
  },
  {
   "cell_type": "code",
   "execution_count": 59,
   "metadata": {},
   "outputs": [
    {
     "data": {
      "image/png": "[encoded data removed]",
      "text/plain": [
       "<matplotlib.figure.Figure at 0x138ba790>"
      ]
     },
     "metadata": {},
     "output_type": "display_data"
    }
   ],
   "source": [
    "fig=plt.figure(figsize=(7, 5), dpi= 80, facecolor='w', edgecolor='k')\n",
    "plt.bar(fin_arg_scores, fin_scores_baba_corr_1)\n",
    "plt.show()"
   ]
  },
  {
   "cell_type": "markdown",
   "metadata": {
    "collapsed": true
   },
   "source": [
    "## Interdependence"
   ]
  },
  {
   "cell_type": "markdown",
   "metadata": {},
   "source": [
    "This parameter gives us information about single layer importance, interdependence can be undestood as information which layer is base layer for other layers. This metric is calculated by counting how many shortes path from node i to node j go through examined layer divided by all shortes paths in graph."
   ]
  },
  {
   "cell_type": "markdown",
   "metadata": {},
   "source": [
    "#### ER - ER"
   ]
  },
  {
   "cell_type": "code",
   "execution_count": 60,
   "metadata": {},
   "outputs": [],
   "source": [
    "inter_params_erer = InterMeasures.network_interdependence(multi_er_er.network)"
   ]
  },
  {
   "cell_type": "code",
   "execution_count": 61,
   "metadata": {},
   "outputs": [
    {
     "data": {
      "text/plain": [
       "'Network interdependence: 2.36898690791'"
      ]
     },
     "execution_count": 61,
     "metadata": {},
     "output_type": "execute_result"
    }
   ],
   "source": [
    "\"Network interdependence: {}\".format(inter_params_erer[0])"
   ]
  },
  {
   "cell_type": "code",
   "execution_count": 62,
   "metadata": {
    "collapsed": true
   },
   "outputs": [],
   "source": [
    "inter_erer = np.sort(inter_params_erer[1])\n",
    "inter_arg_scores_erer = np.argsort(inter_params_erer[1])"
   ]
  },
  {
   "cell_type": "code",
   "execution_count": 63,
   "metadata": {},
   "outputs": [
    {
     "data": {
      "image/png": "[encoded data removed]",
      "text/plain": [
       "<matplotlib.figure.Figure at 0x1351ed50>"
      ]
     },
     "metadata": {},
     "output_type": "display_data"
    }
   ],
   "source": [
    "fig=plt.figure(figsize=(7, 5), dpi= 80, facecolor='w', edgecolor='k')\n",
    "plt.bar(inter_arg_scores_erer, inter_erer)\n",
    "plt.show()"
   ]
  },
  {
   "cell_type": "markdown",
   "metadata": {},
   "source": [
    "#### ER - BA"
   ]
  },
  {
   "cell_type": "code",
   "execution_count": 64,
   "metadata": {
    "collapsed": true
   },
   "outputs": [],
   "source": [
    "inter_params_erba = InterMeasures.network_interdependence(multi_er_ba.network)"
   ]
  },
  {
   "cell_type": "code",
   "execution_count": 65,
   "metadata": {},
   "outputs": [
    {
     "data": {
      "text/plain": [
       "'Network interdependence: 1.63000335804'"
      ]
     },
     "execution_count": 65,
     "metadata": {},
     "output_type": "execute_result"
    }
   ],
   "source": [
    "\"Network interdependence: {}\".format(inter_params_erba[0])"
   ]
  },
  {
   "cell_type": "code",
   "execution_count": 66,
   "metadata": {
    "collapsed": true
   },
   "outputs": [],
   "source": [
    "inter_erba = np.sort(inter_params_erba[1])\n",
    "inter_arg_scores_erba = np.argsort(inter_params_erba[1])"
   ]
  },
  {
   "cell_type": "code",
   "execution_count": 67,
   "metadata": {},
   "outputs": [
    {
     "data": {
      "image/png": "[encoded data removed]",
      "text/plain": [
       "<matplotlib.figure.Figure at 0x12e5a230>"
      ]
     },
     "metadata": {},
     "output_type": "display_data"
    }
   ],
   "source": [
    "fig=plt.figure(figsize=(7, 5), dpi= 80, facecolor='w', edgecolor='k')\n",
    "plt.bar(inter_arg_scores_erba, inter_erba)\n",
    "plt.show()"
   ]
  },
  {
   "cell_type": "markdown",
   "metadata": {},
   "source": [
    "#### BA - BA [No Correlation]"
   ]
  },
  {
   "cell_type": "code",
   "execution_count": 68,
   "metadata": {
    "collapsed": true
   },
   "outputs": [],
   "source": [
    "inter_params_baba_nc = InterMeasures.network_interdependence(multi_ba_ba_nc.network)"
   ]
  },
  {
   "cell_type": "code",
   "execution_count": 69,
   "metadata": {},
   "outputs": [
    {
     "data": {
      "text/plain": [
       "'Network interdependence: 3.16974947497'"
      ]
     },
     "execution_count": 69,
     "metadata": {},
     "output_type": "execute_result"
    }
   ],
   "source": [
    "\"Network interdependence: {}\".format(inter_params_baba_nc[0])"
   ]
  },
  {
   "cell_type": "code",
   "execution_count": 70,
   "metadata": {
    "collapsed": true
   },
   "outputs": [],
   "source": [
    "inter_baba_nc = np.sort(inter_params_baba_nc[1])\n",
    "inter_arg_scores_baba_nc = np.argsort(inter_params_baba_nc[1])"
   ]
  },
  {
   "cell_type": "code",
   "execution_count": 71,
   "metadata": {},
   "outputs": [
    {
     "data": {
      "image/png": "[encoded data removed]",
      "text/plain": [
       "<matplotlib.figure.Figure at 0x13028530>"
      ]
     },
     "metadata": {},
     "output_type": "display_data"
    }
   ],
   "source": [
    "fig=plt.figure(figsize=(7, 5), dpi= 80, facecolor='w', edgecolor='k')\n",
    "plt.bar(inter_arg_scores_baba_nc, inter_baba_nc)\n",
    "plt.show()"
   ]
  },
  {
   "cell_type": "markdown",
   "metadata": {},
   "source": [
    "#### BA - BA [Correlation]"
   ]
  },
  {
   "cell_type": "code",
   "execution_count": 72,
   "metadata": {
    "collapsed": true
   },
   "outputs": [],
   "source": [
    "inter_params_baba_corr_1 = InterMeasures.network_interdependence(multi_ba_ba_corr_1.network)"
   ]
  },
  {
   "cell_type": "code",
   "execution_count": 73,
   "metadata": {},
   "outputs": [
    {
     "data": {
      "text/plain": [
       "'Network interdependence: 2.1094947649'"
      ]
     },
     "execution_count": 73,
     "metadata": {},
     "output_type": "execute_result"
    }
   ],
   "source": [
    "\"Network interdependence: {}\".format(inter_params_baba_corr_1[0])"
   ]
  },
  {
   "cell_type": "code",
   "execution_count": 74,
   "metadata": {
    "collapsed": true
   },
   "outputs": [],
   "source": [
    "inter_baba_corr_1 = np.sort(inter_params_baba_corr_1[1])\n",
    "inter_arg_scores_baba_corr_1 = np.argsort(inter_params_baba_corr_1[1])"
   ]
  },
  {
   "cell_type": "code",
   "execution_count": 75,
   "metadata": {},
   "outputs": [
    {
     "data": {
      "image/png": "[encoded data removed]",
      "text/plain": [
       "<matplotlib.figure.Figure at 0x13b3d9b0>"
      ]
     },
     "metadata": {},
     "output_type": "display_data"
    }
   ],
   "source": [
    "fig=plt.figure(figsize=(7, 5), dpi= 80, facecolor='w', edgecolor='k')\n",
    "plt.bar(inter_arg_scores_baba_corr_1, inter_baba_corr_1)\n",
    "plt.show()"
   ]
  },
  {
   "cell_type": "markdown",
   "metadata": {},
   "source": [
    "# Clustering Coefficient"
   ]
  },
  {
   "cell_type": "markdown",
   "metadata": {},
   "source": [
    "*Clustering coefficient* gives us information about how many connection is between node neighboors. For coefficient **1.0** evey neighboor node is connected with **all other** nodes neighboors. For multilayer networks instead of counting triangles in single network we compute triangles build using edges, which are in two layers.\n",
    "<br>\n",
    "Analysing *clustering coefficient* we can retrive some information about *information spreading* in networks, in many cases small clustering leasds to better spreading in network."
   ]
  },
  {
   "cell_type": "markdown",
   "metadata": {},
   "source": [
    "#### ER - ER"
   ]
  },
  {
   "cell_type": "code",
   "execution_count": 76,
   "metadata": {},
   "outputs": [],
   "source": [
    "im = InterMeasures()\n",
    "im.network_graph_np = multi_er_er.network\n",
    "im.network_weights_np = multi_er_er.network"
   ]
  },
  {
   "cell_type": "code",
   "execution_count": 77,
   "metadata": {
    "collapsed": true
   },
   "outputs": [],
   "source": [
    "cluster_nodes = im.one_triad_clustering_pool()"
   ]
  },
  {
   "cell_type": "code",
   "execution_count": 78,
   "metadata": {},
   "outputs": [
    {
     "data": {
      "image/png": "[encoded data removed]",
      "text/plain": [
       "<matplotlib.figure.Figure at 0x138ba0b0>"
      ]
     },
     "metadata": {},
     "output_type": "display_data"
    }
   ],
   "source": [
    "fig=plt.figure(figsize=(5, 5), dpi= 80, facecolor='w', edgecolor='k')\n",
    "plt.imshow(np.repeat(np.array(cluster_nodes)[np.newaxis, :], 100, axis=0))\n",
    "plt.show()"
   ]
  },
  {
   "cell_type": "code",
   "execution_count": 79,
   "metadata": {},
   "outputs": [
    {
     "name": "stdout",
     "output_type": "stream",
     "text": [
      "Network clustering coefficient: 0.169881354454\n"
     ]
    }
   ],
   "source": [
    "print(\"Network clustering coefficient: {}\".format(np.mean(cluster_nodes)))"
   ]
  },
  {
   "cell_type": "markdown",
   "metadata": {},
   "source": [
    "For **random network** we have the biggest clustering coefficient, caused by Poisson degree distribution and lack of preferential attachment."
   ]
  },
  {
   "cell_type": "markdown",
   "metadata": {},
   "source": [
    "#### ER - BA"
   ]
  },
  {
   "cell_type": "code",
   "execution_count": 80,
   "metadata": {
    "collapsed": true
   },
   "outputs": [],
   "source": [
    "im = InterMeasures()\n",
    "im.network_graph_np = multi_er_ba.network\n",
    "im.network_weights_np = multi_er_ba.network"
   ]
  },
  {
   "cell_type": "code",
   "execution_count": 81,
   "metadata": {
    "collapsed": true
   },
   "outputs": [],
   "source": [
    "cluster_nodes = im.one_triad_clustering_pool()"
   ]
  },
  {
   "cell_type": "code",
   "execution_count": 82,
   "metadata": {},
   "outputs": [
    {
     "data": {
      "image/png": "[encoded data removed]",
      "text/plain": [
       "<matplotlib.figure.Figure at 0x139c2f70>"
      ]
     },
     "metadata": {},
     "output_type": "display_data"
    }
   ],
   "source": [
    "fig=plt.figure(figsize=(5, 5), dpi= 80, facecolor='w', edgecolor='k')\n",
    "plt.imshow(np.repeat(np.array(cluster_nodes)[np.newaxis, :], 100, axis=0))\n",
    "plt.show()"
   ]
  },
  {
   "cell_type": "code",
   "execution_count": 83,
   "metadata": {},
   "outputs": [
    {
     "name": "stdout",
     "output_type": "stream",
     "text": [
      "Network clustering coefficient: 0.0880868633978\n"
     ]
    }
   ],
   "source": [
    "print(\"Network clustering coefficient: {}\".format(np.mean(cluster_nodes)))"
   ]
  },
  {
   "cell_type": "markdown",
   "metadata": {},
   "source": [
    "Mix Poissonian distribution of **random network** and scale-free character of **BA** network gives as the worst results, when analysing clustering. **PA** and Poisson not gives good results n this field."
   ]
  },
  {
   "cell_type": "markdown",
   "metadata": {},
   "source": [
    "#### BA - BB"
   ]
  },
  {
   "cell_type": "code",
   "execution_count": 84,
   "metadata": {
    "collapsed": true
   },
   "outputs": [],
   "source": [
    "im = InterMeasures()\n",
    "im.network_graph_np = multi_ba_bb.network\n",
    "im.network_weights_np = multi_ba_bb.network"
   ]
  },
  {
   "cell_type": "code",
   "execution_count": 85,
   "metadata": {
    "collapsed": true
   },
   "outputs": [],
   "source": [
    "cluster_nodes = im.one_triad_clustering_pool()"
   ]
  },
  {
   "cell_type": "code",
   "execution_count": 86,
   "metadata": {},
   "outputs": [
    {
     "data": {
      "image/png": "[encoded data removed]",
      "text/plain": [
       "<matplotlib.figure.Figure at 0x92499b0>"
      ]
     },
     "metadata": {},
     "output_type": "display_data"
    }
   ],
   "source": [
    "fig=plt.figure(figsize=(5, 5), dpi= 80, facecolor='w', edgecolor='k')\n",
    "plt.imshow(np.repeat(np.array(cluster_nodes)[np.newaxis, :], 100, axis=0))\n",
    "plt.show()"
   ]
  },
  {
   "cell_type": "code",
   "execution_count": 87,
   "metadata": {},
   "outputs": [
    {
     "name": "stdout",
     "output_type": "stream",
     "text": [
      "Network clustering coefficient: 0.118184114077\n"
     ]
    }
   ],
   "source": [
    "print(\"Network clustering coefficient: {}\".format(np.mean(cluster_nodes)))"
   ]
  },
  {
   "cell_type": "markdown",
   "metadata": {},
   "source": [
    "Slighty better than previous one, but still different hub possition can influence on result, making it worse. "
   ]
  },
  {
   "cell_type": "markdown",
   "metadata": {},
   "source": [
    "#### BA - BA [No Correlation]"
   ]
  },
  {
   "cell_type": "code",
   "execution_count": 88,
   "metadata": {
    "collapsed": true
   },
   "outputs": [],
   "source": [
    "im = InterMeasures()\n",
    "im.network_graph_np = multi_ba_ba_nc.network\n",
    "im.network_weights_np = multi_ba_ba_nc.network"
   ]
  },
  {
   "cell_type": "code",
   "execution_count": 89,
   "metadata": {
    "collapsed": true
   },
   "outputs": [],
   "source": [
    "cluster_nodes = im.one_triad_clustering_pool()"
   ]
  },
  {
   "cell_type": "code",
   "execution_count": 90,
   "metadata": {},
   "outputs": [
    {
     "data": {
      "image/png": "[encoded data removed]",
      "text/plain": [
       "<matplotlib.figure.Figure at 0x922e370>"
      ]
     },
     "metadata": {},
     "output_type": "display_data"
    }
   ],
   "source": [
    "fig=plt.figure(figsize=(5, 5), dpi= 80, facecolor='w', edgecolor='k')\n",
    "plt.imshow(np.repeat(np.array(cluster_nodes)[np.newaxis, :], 100, axis=0))\n",
    "plt.show()"
   ]
  },
  {
   "cell_type": "code",
   "execution_count": 91,
   "metadata": {},
   "outputs": [
    {
     "name": "stdout",
     "output_type": "stream",
     "text": [
      "Network clustering coefficient: 0.11533250342\n"
     ]
    }
   ],
   "source": [
    "print(\"Network clustering coefficient: {}\".format(np.mean(cluster_nodes)))"
   ]
  },
  {
   "cell_type": "markdown",
   "metadata": {},
   "source": [
    "#### BA - BA [Correlation]"
   ]
  },
  {
   "cell_type": "code",
   "execution_count": 92,
   "metadata": {
    "collapsed": true
   },
   "outputs": [],
   "source": [
    "im = InterMeasures()\n",
    "im.network_graph_np = multi_ba_ba_corr_1.network\n",
    "im.network_weights_np = multi_ba_ba_corr_1.network"
   ]
  },
  {
   "cell_type": "code",
   "execution_count": 93,
   "metadata": {},
   "outputs": [],
   "source": [
    "cluster_nodes = im.one_triad_clustering_pool()"
   ]
  },
  {
   "cell_type": "code",
   "execution_count": 94,
   "metadata": {},
   "outputs": [
    {
     "data": {
      "image/png": "[encoded data removed]",
      "text/plain": [
       "<matplotlib.figure.Figure at 0x13052c10>"
      ]
     },
     "metadata": {},
     "output_type": "display_data"
    }
   ],
   "source": [
    "fig=plt.figure(figsize=(5, 5), dpi= 80, facecolor='w', edgecolor='k')\n",
    "plt.imshow(np.repeat(np.array(cluster_nodes)[np.newaxis, :], 100, axis=0))\n",
    "plt.show()"
   ]
  },
  {
   "cell_type": "code",
   "execution_count": 95,
   "metadata": {},
   "outputs": [
    {
     "name": "stdout",
     "output_type": "stream",
     "text": [
      "Network clustering coefficient: 0.143545386231\n"
     ]
    }
   ],
   "source": [
    "print(\"Network clustering coefficient: {}\".format(np.mean(cluster_nodes)))"
   ]
  },
  {
   "cell_type": "markdown",
   "metadata": {},
   "source": [
    "Using two correlated **BA** networks, we archieved clustering coefficient similiar to this from **ER** - Random network. This fact can lead to better spreading."
   ]
  }
 ],
 "metadata": {
  "kernelspec": {
   "display_name": "Python 2",
   "language": "python",
   "name": "python2"
  },
  "language_info": {
   "codemirror_mode": {
    "name": "ipython",
    "version": 2
   },
   "file_extension": ".py",
   "mimetype": "text/x-python",
   "name": "python",
   "nbconvert_exporter": "python",
   "pygments_lexer": "ipython2",
   "version": "2.7.12"
  }
 },
 "nbformat": 4,
 "nbformat_minor": 2
}
